{
 "cells": [
  {
   "cell_type": "markdown",
   "id": "eff589b3",
   "metadata": {},
   "source": [
    "### NutriChat - Data Ingestion & Retrieval Implementation\n",
    "This notebook implements the core RAG system components:\n",
    "1. Loading processed nutrition data into MinSearch\n",
    "2. Setting up search index with nutritional fields\n",
    "3. Implementing retrieval functions with field-specific boosts\n",
    "4. Building RAG pipeline with search, prompt, and LLM components"
   ]
  },
  {
   "cell_type": "code",
   "execution_count": null,
   "id": "3ac947de-effd-4b61-8792-a6d7a133f347",
   "metadata": {},
   "outputs": [
    {
     "data": {
      "text/plain": [
       "<minsearch.Index at 0x1d9c9bd8890>"
      ]
     },
     "execution_count": 3,
     "metadata": {},
     "output_type": "execute_result"
    }
   ],
   "source": [
    "import requests \n",
    "import minsearch\n",
    "\n",
    "docs_url = 'https://raw.githubusercontent.com/milanimcgraw/NutriChat/refs/heads/main/nutritionfacts.json'\n",
    "docs_response = requests.get(docs_url)\n",
    "nutrition_data = docs_response.json()"
   ]
  },
  {
   "cell_type": "markdown",
   "id": "c8605e39",
   "metadata": {},
   "source": [
    "### Knowledge Base"
   ]
  },
  {
   "cell_type": "code",
   "execution_count": null,
   "id": "9fed843d",
   "metadata": {},
   "outputs": [],
   "source": [
    "documents = []\n",
    "\n",
    "for item in nutrition_data['nutritionfacts']:\n",
    "    documents.append(item)"
   ]
  },
  {
   "cell_type": "code",
   "execution_count": null,
   "id": "5280eb37",
   "metadata": {},
   "outputs": [],
   "source": [
    "documents[0]"
   ]
  },
  {
   "cell_type": "code",
   "execution_count": null,
   "id": "5ce372d8",
   "metadata": {},
   "outputs": [],
   "source": [
    "#Create Index\n",
    "index = minsearch.Index(\n",
    "    text_fields=[\"Food\", \"Measure\", \"Category\", \"Grams\", \"Calories\", \"Protein\", \"Fat\", \"Sat.Fat\", \"Fiber\", \"Carbs\"],\n",
    "    keyword_fields=[\"Category\"]\n",
    ")"
   ]
  },
  {
   "cell_type": "code",
   "execution_count": null,
   "id": "172bf148",
   "metadata": {},
   "outputs": [],
   "source": [
    "query = 'What foods are high in protein and low in fat?'"
   ]
  },
  {
   "cell_type": "code",
   "execution_count": null,
   "id": "8ab59309",
   "metadata": {},
   "outputs": [],
   "source": [
    "# Fit Index\n",
    "index.fit(documents)"
   ]
  },
  {
   "cell_type": "code",
   "execution_count": null,
   "id": "7626eb6c",
   "metadata": {},
   "outputs": [],
   "source": [
    "from openai import OpenAI\n",
    "\n",
    "client = OpenAI()\n",
    "\n",
    "response = client.chat.completions.create(\n",
    "    model='gpt-4',\n",
    "    messages=[{\"role\": \"user\", \"content\": query}]\n",
    ")\n",
    "\n",
    "\n",
    "response.choices[0].message.content"
   ]
  },
  {
   "cell_type": "code",
   "execution_count": null,
   "id": "8f087272-b44d-4738-9ea2-175ec63a058b",
   "metadata": {},
   "outputs": [],
   "source": [
    "# Search Function\n",
    "def search(query):\n",
    "    boost = {\n",
    "        'Food': 3.0,        \n",
    "        'Measure': 2.0,     \n",
    "        'Grams': 1.0,       \n",
    "        'Calories': 2.5,    \n",
    "        'Protein': 2.0,     \n",
    "        'Fat': 2.0,         \n",
    "        'Sat.Fat': 1.5,     \n",
    "        'Fiber': 1.5,       \n",
    "        'Carbs': 2.0,       \n",
    "        'Category': 1.0     \n",
    "    }\n",
    "\n",
    "    results = index.search(\n",
    "        query=query,\n",
    "        filter_dict=None,\n",
    "        boost_dict=boost,\n",
    "        num_results=5\n",
    "    )\n",
    "\n",
    "    return results"
   ]
  },
  {
   "cell_type": "code",
   "execution_count": null,
   "id": "742ab881-499a-4675-83c4-2013ea1377b9",
   "metadata": {},
   "outputs": [],
   "source": [
    "#Build Prompt\n",
    "def build_prompt(query, search_results):\n",
    "    prompt_template = \"\"\"\n",
    "    You're a nutritionist working as an assistant. Answer the QUESTION based on the CONTEXT from the nutrition data.\n",
    "    Use only the facts from the CONTEXT when answering the QUESTION. Be specific about measurements and values.\n",
    "\n",
    "    QUESTION: {question}\n",
    "\n",
    "    CONTEXT: \n",
    "    {context}\n",
    "    \"\"\".strip()\n",
    "\n",
    "    context = \"\"\n",
    "    for doc in search_results:\n",
    "        context = context + f\"Food: {doc['Food']}\\n\"\n",
    "        context = context + f\"Measure: {doc['Measure']}\\n\"\n",
    "        context = context + f\"Nutritional Information: {doc['Calories']} calories, {doc['Protein']}g protein, \"\n",
    "        context = context + f\"{doc['Fat']}g fat, {doc['Sat.Fat']}g saturated fat, \"\n",
    "        context = context + f\"{doc['Fiber']}g fiber, {doc['Carbs']}g carbohydrates\\n\"\n",
    "        context = context + f\"Category: {doc['Category']}\\n\\n\"\n",
    "    \n",
    "    prompt = prompt_template.format(question=query, context=context).strip()\n",
    "    return prompt"
   ]
  },
  {
   "cell_type": "code",
   "execution_count": null,
   "id": "b0d2e39f",
   "metadata": {},
   "outputs": [],
   "source": [
    "# LLM Function\n",
    "def llm(prompt):\n",
    "    response = client.chat.completions.create(\n",
    "        model='gpt-4',\n",
    "        messages=[{\"role\": \"user\", \"content\": prompt}]\n",
    "    )\n",
    "    \n",
    "    return response.choices[0].message.content"
   ]
  },
  {
   "cell_type": "code",
   "execution_count": null,
   "id": "fe8bff3e-b672-42be-866b-f2d9bb217106",
   "metadata": {},
   "outputs": [],
   "source": [
    "# RAG Function\n",
    "def rag(query):\n",
    "    search_results = search(query)\n",
    "    prompt = build_prompt(query, search_results)\n",
    "    answer = llm(prompt)\n",
    "    return answer"
   ]
  },
  {
   "cell_type": "code",
   "execution_count": null,
   "id": "77c32ef3",
   "metadata": {},
   "outputs": [],
   "source": [
    "# MinSearch - Test Pipeline\n",
    "def test_minsearch_pipeline():\n",
    "    query = \"What are some low-calorie options in dairy products?\"\n",
    "    answer, results = rag(query)\n",
    "    print(\"\\nTest MinSearch Pipeline:\")\n",
    "    print(\"Query:\", query)\n",
    "    print(\"\\nAI Response:\")\n",
    "    print(answer)\n",
    "    print(\"\\nTop Results Used:\")\n",
    "    for i, result in enumerate(results, 1):\n",
    "        print(f\"\\n{i}. {result['Food']} ({result['Category']})\")"
   ]
  }
 ],
 "metadata": {
  "kernelspec": {
   "display_name": "Python 3 (ipykernel)",
   "language": "python",
   "name": "python3"
  },
  "language_info": {
   "codemirror_mode": {
    "name": "ipython",
    "version": 3
   },
   "file_extension": ".py",
   "mimetype": "text/x-python",
   "name": "python",
   "nbconvert_exporter": "python",
   "pygments_lexer": "ipython3",
   "version": "3.11.9"
  }
 },
 "nbformat": 4,
 "nbformat_minor": 5
}
