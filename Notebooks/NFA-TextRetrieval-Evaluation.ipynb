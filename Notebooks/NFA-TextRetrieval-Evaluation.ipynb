{
 "cells": [
  {
   "cell_type": "markdown",
   "id": "f6240b79",
   "metadata": {},
   "source": [
    "### NutriChat - Text-Based Retrieval Evaluation\n",
    "\n",
    "This notebook evaluates text-based retrieval approaches:\n",
    "1. Basic hit rate and MRR metrics\n",
    "2. Elasticsearch BM25 \n",
    "3. MinSearch implementation for our nutrition facts dataset.\n",
    "4. Analysis of retrieval performance across different food categories"
   ]
  },
  {
   "cell_type": "code",
   "execution_count": null,
   "id": "82620266",
   "metadata": {},
   "outputs": [],
   "source": [
    "# Import libraries\n",
    "import json\n",
    "import requests\n",
    "import pandas as pd\n",
    "import numpy as np\n",
    "from tqdm.auto import tqdm\n",
    "from elasticsearch import Elasticsearch\n",
    "import minsearch"
   ]
  },
  {
   "cell_type": "code",
   "execution_count": null,
   "id": "dda5477e",
   "metadata": {},
   "outputs": [],
   "source": [
    "# Load documents with IDs\n",
    "docs_url = 'https://raw.githubusercontent.com/milanimcgraw/NutriChat/main/nutrition-docs-with-ids.json'\n",
    "docs_response = requests.get(docs_url)\n",
    "documents = docs_response.json()"
   ]
  },
  {
   "cell_type": "code",
   "execution_count": null,
   "id": "b6565f17",
   "metadata": {},
   "outputs": [],
   "source": [
    "documents[:5]"
   ]
  },
  {
   "cell_type": "markdown",
   "id": "a2274492",
   "metadata": {},
   "source": [
    "#### Elasticsearch"
   ]
  },
  {
   "cell_type": "code",
   "execution_count": null,
   "id": "620ed5a1-cc06-40a3-8627-891aed525cba",
   "metadata": {},
   "outputs": [
    {
     "data": {
      "text/plain": [
       "ObjectApiResponse({'acknowledged': True, 'shards_acknowledged': True, 'index': 'course-questions'})"
      ]
     },
     "execution_count": 4,
     "metadata": {},
     "output_type": "execute_result"
    }
   ],
   "source": [
    "# Initialize Elasticsearch client\n",
    "es_client = Elasticsearch('http://localhost:9200') \n",
    "\n",
    "# Define index settings\n",
    "index_settings = {\n",
    "    \"settings\": {\n",
    "        \"number_of_shards\": 1,\n",
    "        \"number_of_replicas\": 0\n",
    "    },\n",
    "    \"mappings\": {\n",
    "        \"properties\": {\n",
    "            \"Food\": {\"type\": \"text\"},\n",
    "            \"Measure\": {\"type\": \"text\"},\n",
    "            \"Grams\": {\"type\": \"float\"},\n",
    "            \"Calories\": {\"type\": \"float\"},\n",
    "            \"Protein\": {\"type\": \"float\"},\n",
    "            \"Fat\": {\"type\": \"float\"},\n",
    "            \"SatFat\": {\"type\": \"float\"},\n",
    "            \"Fiber\": {\"type\": \"float\"},\n",
    "            \"Carbs\": {\"type\": \"float\"},\n",
    "            \"Category\": {\"type\": \"keyword\"}\n",
    "        }\n",
    "    }\n",
    "}\n",
    "\n",
    "index_name = \"nutrition-facts\" \n",
    "\n",
    "# Create index\n",
    "es_client.indices.delete(index=index_name, ignore_unavailable=True)\n",
    "es_client.indices.create(index=index_name, body=index_settings)"
   ]
  },
  {
   "cell_type": "code",
   "execution_count": null,
   "id": "58a9daf0-9b68-48fb-b992-59782b625e33",
   "metadata": {},
   "outputs": [
    {
     "data": {
      "application/vnd.jupyter.widget-view+json": {
       "model_id": "b7bffc1ed5fd4de2a26975f894976043",
       "version_major": 2,
       "version_minor": 0
      },
      "text/plain": [
       "  0%|          | 0/948 [00:00<?, ?it/s]"
      ]
     },
     "metadata": {},
     "output_type": "display_data"
    }
   ],
   "source": [
    "# Handle trace amounts\n",
    "def convert_numeric(value):\n",
    "    if value == 't':\n",
    "        return 0.1  # Represent trace amounts as 0.1\n",
    "    try:\n",
    "        return float(value)\n",
    "    except:\n",
    "        return 0.0\n",
    "\n",
    "# Index documents\n",
    "for doc in tqdm(documents):\n",
    "    # Convert trace amounts and ensure numeric fields\n",
    "    doc['Grams'] = convert_numeric(doc['Grams'])\n",
    "    doc['Calories'] = convert_numeric(doc['Calories'])\n",
    "    doc['Protein'] = convert_numeric(doc['Protein'])\n",
    "    doc['Fat'] = convert_numeric(doc['Fat'])\n",
    "    doc['Sat.Fat'] = convert_numeric(doc['Sat.Fat'])\n",
    "    doc['Fiber'] = convert_numeric(doc['Fiber'])\n",
    "    doc['Carbs'] = convert_numeric(doc['Carbs'])\n",
    "    \n",
    "    es_client.index(index=index_name, document=doc)"
   ]
  },
  {
   "cell_type": "code",
   "execution_count": null,
   "id": "08c8586c-2976-4746-9b2d-0442c360211d",
   "metadata": {},
   "outputs": [],
   "source": [
    "def elastic_search(query):\n",
    "    search_query = {\n",
    "        \"size\": 5,\n",
    "        \"query\": {\n",
    "            \"bool\": {\n",
    "                \"must\": {\n",
    "                    \"multi_match\": {\n",
    "                        \"query\": query,\n",
    "                        \"fields\": [\n",
    "                            \"Food^3\",\n",
    "                            \"Measure\",\n",
    "                            \"Grams\",\n",
    "                            \"Calories\",\n",
    "                            \"Protein\",\n",
    "                            \"Fat\",\n",
    "                            \"SatFat\",\n",
    "                            \"Fiber\",\n",
    "                            \"Carbs\",\n",
    "                            \"Category\"\n",
    "                        ],\n",
    "                        \"type\": \"best_fields\"\n",
    "                    }\n",
    "                },\n",
    "                \"filter\": {\n",
    "                    \"term\": {\n",
    "                        \"Category\": category\n",
    "                    }\n",
    "                }\n",
    "            }\n",
    "        }\n",
    "    }\n",
    "\n",
    "    response = es_client.search(index=index_name, body=search_query)\n",
    "    \n",
    "    result_docs = []\n",
    "    for hit in response['hits']['hits']:\n",
    "        result_docs.append(hit['_source'])\n",
    "    \n",
    "    return result_docs"
   ]
  },
  {
   "cell_type": "code",
   "execution_count": null,
   "id": "1086a1df",
   "metadata": {},
   "outputs": [],
   "source": [
    "# Test search\n",
    "test_results = elastic_search(\n",
    "    query=\"How many calories in an apple?\",\n",
    "    category=\"Fruits A-F\"\n",
    ")\n",
    "for doc in test_results[:3]:\n",
    "    print(f\"Food: {doc['Food']}\")\n",
    "    print(f\"Calories: {doc['Calories']}\")\n",
    "    print(f\"Measure: {doc['Measure']}\\n\")\n"
   ]
  },
  {
   "cell_type": "markdown",
   "id": "4dcf5410",
   "metadata": {},
   "source": [
    "#### MinSearch "
   ]
  },
  {
   "cell_type": "code",
   "execution_count": null,
   "id": "4c989760",
   "metadata": {},
   "outputs": [],
   "source": [
    "# Initialize MinSearch\n",
    "index = minsearch.Index(\n",
    "    text_fields=[\"Food\", \"Measure\", \"Category\"],\n",
    "    keyword_fields=[\"id\", \"Category\"],\n",
    "    numeric_fields=[\"Grams\", \"Calories\", \"Protein\", \"Fat\", \"SatFat\", \"Fiber\", \"Carbs\"]\n",
    ")\n",
    "\n",
    "index.fit(documents)"
   ]
  },
  {
   "cell_type": "code",
   "execution_count": null,
   "id": "4c8a0f74",
   "metadata": {},
   "outputs": [],
   "source": [
    "def minsearch_search(query, category):\n",
    "    boost = {\n",
    "        'Food': 3.0,\n",
    "        'Calories': 2.0,\n",
    "        'Protein': 1.5,\n",
    "        'Category': 1.0\n",
    "    }\n",
    "    \n",
    "    results = index.search(\n",
    "        query=query,\n",
    "        filter_dict={'Category': category},\n",
    "        boost_dict=boost,\n",
    "        num_results=5\n",
    "    )\n",
    "    \n",
    "    return results"
   ]
  },
  {
   "cell_type": "markdown",
   "id": "52417357",
   "metadata": {},
   "source": [
    "#### Ground Truth "
   ]
  },
  {
   "cell_type": "code",
   "execution_count": null,
   "id": "07487dd5",
   "metadata": {},
   "outputs": [],
   "source": [
    "# Load ground truth data\n",
    "gt_url = 'https://raw.githubusercontent.com/milanimcgraw/NutriChat/main/nutrichat-groundtruthdata.csv'\n",
    "df_ground_truth = pd.read_csv(gt_url)\n",
    "ground_truth = df_ground_truth.to_dict(orient='records')"
   ]
  },
  {
   "cell_type": "code",
   "execution_count": null,
   "id": "8cce6ff8",
   "metadata": {},
   "outputs": [],
   "source": [
    "ground_truth[:5]"
   ]
  },
  {
   "cell_type": "code",
   "execution_count": null,
   "id": "a21c17b9",
   "metadata": {},
   "outputs": [],
   "source": [
    "df_ground_truth = pd.read_csv('nutrichat-groundtruthdata.csv'')"
   ]
  },
  {
   "cell_type": "code",
   "execution_count": null,
   "id": "23e644d4",
   "metadata": {},
   "outputs": [],
   "source": [
    "ground_truth = df_ground_truth.to_dict(orient='records')"
   ]
  },
  {
   "cell_type": "markdown",
   "id": "1ddfec1a",
   "metadata": {},
   "source": [
    "#### Evaluation Functions (and metrics)"
   ]
  },
  {
   "cell_type": "code",
   "execution_count": null,
   "id": "7680d6bd",
   "metadata": {},
   "outputs": [],
   "source": [
    "# Calculate initial relevance\n",
    "relevance_total = []\n",
    "\n",
    "for q in tqdm(ground_truth):\n",
    "    doc_id = q['document_id']\n",
    "    results = minsearch_search(query=q['question'], category=q['category'])\n",
    "    relevance = [d['id'] == doc_id for d in results]\n",
    "    relevance_total.append(relevance)"
   ]
  },
  {
   "cell_type": "code",
   "execution_count": null,
   "id": "c43f27e2",
   "metadata": {},
   "outputs": [],
   "source": [
    "# Example relevance calculation\n",
    "example = [\n",
    "    [True, False, False, False, False], # 1, \n",
    "    [False, False, False, False, False], # 0\n",
    "    [False, False, False, False, False], # 0 \n",
    "    [False, False, False, False, False], # 0\n",
    "    [False, False, False, False, False], # 0 \n",
    "    [True, False, False, False, False], # 1\n",
    "    [True, False, False, False, False], # 1\n",
    "    [True, False, False, False, False], # 1\n",
    "    [True, False, False, False, False], # 1\n",
    "    [True, False, False, False, False], # 1 \n",
    "    [False, False, True, False, False],  # 1/3\n",
    "    [False, False, False, False, False], # 0\n",
    "]\n",
    "\n",
    "# 1 => 1\n",
    "# 2 => 1 / 2 = 0.5\n",
    "# 3 => 1 / 3 = 0.3333\n",
    "# 4 => 0.25\n",
    "# 5 => 0.2\n",
    "# rank => 1 / rank\n",
    "# none => 0"
   ]
  },
  {
   "cell_type": "markdown",
   "id": "88cacaeb",
   "metadata": {},
   "source": [
    "Hit Rate"
   ]
  },
  {
   "cell_type": "code",
   "execution_count": null,
   "id": "723a0bec",
   "metadata": {},
   "outputs": [],
   "source": [
    "# Hit rate\n",
    "def hit_rate(relevance_total):\n",
    "    \"\"\"Calculate hit rate\"\"\"\n",
    "    cnt = 0\n",
    "\n",
    "    for line in relevance_total:\n",
    "        if True in line:\n",
    "            cnt = cnt + 1\n",
    "\n",
    "    return cnt / len(relevance_total)"
   ]
  },
  {
   "cell_type": "markdown",
   "id": "ed853abf",
   "metadata": {},
   "source": [
    "MRR"
   ]
  },
  {
   "cell_type": "code",
   "execution_count": null,
   "id": "b0a95db3",
   "metadata": {},
   "outputs": [],
   "source": [
    "# MRR\n",
    "def mrr(relevance_total):\n",
    "    total_score = 0.0\n",
    "    for line in relevance_total:\n",
    "        for rank in range(len(line)):\n",
    "            if line[rank] == True:\n",
    "                total_score = total_score + 1 / (rank + 1)\n",
    "    return total_score / len(relevance_total)"
   ]
  },
  {
   "cell_type": "code",
   "execution_count": null,
   "id": "d053d8dc",
   "metadata": {},
   "outputs": [],
   "source": [
    "# Test metrics on example\n",
    "print(\"Hit rate:\", hit_rate(example))\n",
    "print(\"MRR:\", mrr(example))"
   ]
  },
  {
   "cell_type": "code",
   "execution_count": null,
   "id": "fa35460a",
   "metadata": {},
   "outputs": [],
   "source": [
    "hit_rate(relevance_total), mrr(relevance_total)"
   ]
  },
  {
   "cell_type": "markdown",
   "id": "7f6fbbdf",
   "metadata": {},
   "source": [
    "#### Evaluations"
   ]
  },
  {
   "cell_type": "markdown",
   "id": "c289404a",
   "metadata": {},
   "source": [
    "Evaluate ElasticSearch"
   ]
  },
  {
   "cell_type": "code",
   "execution_count": null,
   "id": "670140f4",
   "metadata": {},
   "outputs": [],
   "source": [
    "# ElasticSearch Relevance\n",
    "relevance_total = []\n",
    "\n",
    "for q in tqdm(ground_truth):\n",
    "    doc_id = q['document_id']\n",
    "    results = elastic_search(query=q['question'], category=q['category'])\n",
    "    relevance = [d['id'] == doc_id for d in results]\n",
    "    relevance_total.append(relevance)"
   ]
  },
  {
   "cell_type": "code",
   "execution_count": null,
   "id": "7862b148",
   "metadata": {},
   "outputs": [],
   "source": [
    "# Calculate ElasticSearch metrics\n",
    "print(\"\\nElasticsearch Results:\")\n",
    "print(\"Hit rate:\", hit_rate(relevance_total))\n",
    "print(\"MRR:\", mrr(relevance_total))"
   ]
  },
  {
   "cell_type": "code",
   "execution_count": null,
   "id": "6ca07a8d",
   "metadata": {},
   "outputs": [],
   "source": [
    "hit_rate(relevance_total), mrr(relevance_total)"
   ]
  },
  {
   "cell_type": "markdown",
   "id": "01727e13",
   "metadata": {},
   "source": [
    "Evaluate MinSearch"
   ]
  },
  {
   "cell_type": "code",
   "execution_count": null,
   "id": "66177a3e",
   "metadata": {},
   "outputs": [],
   "source": [
    "# MinSearch Relevance\n",
    "relevance_total = []\n",
    "\n",
    "for q in tqdm(ground_truth):\n",
    "    doc_id = q['document_id']\n",
    "    results = minsearch_search(query=q['question'], category=q['category'])\n",
    "    relevance = [d['id'] == doc_id for d in results]\n",
    "    relevance_total.append(relevance)"
   ]
  },
  {
   "cell_type": "code",
   "execution_count": 9,
   "id": "163d5e97-e1b7-45e1-ba1e-61fca4fc37a9",
   "metadata": {},
   "outputs": [],
   "source": [
    "# Calculate \n",
    "print(\"\\nMinSearch Results:\")\n",
    "print(\"Hit rate:\", hit_rate(relevance_total))\n",
    "print(\"MRR:\", mrr(relevance_total))"
   ]
  },
  {
   "cell_type": "code",
   "execution_count": null,
   "id": "e03e479b",
   "metadata": {},
   "outputs": [],
   "source": [
    "hit_rate(relevance_total), mrr(relevance_total)"
   ]
  },
  {
   "cell_type": "markdown",
   "id": "0d7dc713",
   "metadata": {},
   "source": [
    "#### Comparison"
   ]
  },
  {
   "cell_type": "code",
   "execution_count": null,
   "id": "9a92f8ec",
   "metadata": {},
   "outputs": [],
   "source": [
    "# Compare results\n",
    "print(\"Elasticsearch:\", es_results)\n",
    "print(\"MinSearch:\", ms_results)"
   ]
  },
  {
   "cell_type": "code",
   "execution_count": 19,
   "id": "1e08bcee-4c70-44b8-9525-ff89d9b2320b",
   "metadata": {},
   "outputs": [
    {
     "data": {
      "application/vnd.jupyter.widget-view+json": {
       "model_id": "df5f0694de064d4fb7f220c79f6998c8",
       "version_major": 2,
       "version_minor": 0
      },
      "text/plain": [
       "  0%|          | 0/4627 [00:00<?, ?it/s]"
      ]
     },
     "metadata": {},
     "output_type": "display_data"
    }
   ],
   "source": [
    "# Evaluation function\n",
    "def evaluate(ground_truth, search_function):\n",
    "    relevance_total = []\n",
    "\n",
    "    for q in tqdm(ground_truth):\n",
    "        doc_id = q['document']\n",
    "        results = search_function(q)\n",
    "        relevance = [d['id'] == doc_id for d in results]\n",
    "        relevance_total.append(relevance)\n",
    "    return {\n",
    "        'hit_rate': hit_rate(relevance_total),\n",
    "        'mrr': mrr(relevance_total),\n",
    "    }"
   ]
  },
  {
   "cell_type": "code",
   "execution_count": null,
   "id": "48135af5",
   "metadata": {},
   "outputs": [],
   "source": [
    "# Evaluate both approaches\n",
    "print(\"\\nElasticsearch results:\")\n",
    "print(evaluate(ground_truth, lambda q: elastic_search(q['question'], q['category'])))\n",
    "\n",
    "print(\"\\nMinSearch results:\")\n",
    "print(evaluate(ground_truth, lambda q: minsearch_search(q['question'], q['category'])))"
   ]
  }
 ],
 "metadata": {
  "kernelspec": {
   "display_name": "Python 3 (ipykernel)",
   "language": "python",
   "name": "python3"
  },
  "language_info": {
   "codemirror_mode": {
    "name": "ipython",
    "version": 3
   },
   "file_extension": ".py",
   "mimetype": "text/x-python",
   "name": "python",
   "nbconvert_exporter": "python",
   "pygments_lexer": "ipython3",
   "version": "3.12.3"
  }
 },
 "nbformat": 4,
 "nbformat_minor": 5
}
