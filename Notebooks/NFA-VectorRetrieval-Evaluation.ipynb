{
 "cells": [
  {
   "cell_type": "markdown",
   "id": "f30fc7fc",
   "metadata": {},
   "source": [
    "### NutriChat - Vector-Based Retrieval Evaluation\n",
    "\n",
    "This notebook evaluates vector-based retrieval approaches:\n",
    "1. Basic hit rate and MRR metrics\n",
    "2. Question/Food vector search\n",
    "3. Text/Measure vector search \n",
    "4. Combined vector approaches\n",
    "5. Analysis of retrieval performance across different food categories for our nutrition facts dataset."
   ]
  },
  {
   "cell_type": "code",
   "execution_count": null,
   "id": "43bbdc46",
   "metadata": {},
   "outputs": [],
   "source": [
    "#Import libraries\n",
    "import json\n",
    "import requests\n",
    "from sentence_transformers import SentenceTransformer\n",
    "from elasticsearch import Elasticsearch\n",
    "from tqdm.auto import tqdm\n",
    "import pandas as pd "
   ]
  },
  {
   "cell_type": "markdown",
   "id": "0ae34f5c",
   "metadata": {},
   "source": [
    "#### Data"
   ]
  },
  {
   "cell_type": "markdown",
   "id": "77c5169c",
   "metadata": {},
   "source": [
    "Documents with IDs"
   ]
  },
  {
   "cell_type": "code",
   "execution_count": null,
   "id": "750a8b37",
   "metadata": {},
   "outputs": [],
   "source": [
    "# Load documents\n",
    "docs_url = 'https://raw.githubusercontent.com/milanimcgraw/NutriChat/main/nutrition-docs-with-ids.json'\n",
    "docs_response = requests.get(docs_url)\n",
    "documents = docs_response.json()"
   ]
  },
  {
   "cell_type": "code",
   "execution_count": null,
   "id": "09b1e49d",
   "metadata": {},
   "outputs": [],
   "source": [
    "documents[:5]"
   ]
  },
  {
   "cell_type": "markdown",
   "id": "248dc11e",
   "metadata": {},
   "source": [
    "Ground Truth Data"
   ]
  },
  {
   "cell_type": "code",
   "execution_count": null,
   "id": "6a3ff737",
   "metadata": {},
   "outputs": [],
   "source": [
    "# Load ground truth data\n",
    "gt_url = 'https://raw.githubusercontent.com/milanimcgraw/NutriChat/main/nutrichat-groundtruthdata.csv'\n",
    "df_ground_truth = pd.read_csv(gt_url)\n",
    "ground_truth = df_ground_truth.to_dict(orient='records')"
   ]
  },
  {
   "cell_type": "code",
   "execution_count": null,
   "id": "7c67f6e7",
   "metadata": {},
   "outputs": [],
   "source": [
    "ground_truth[:5]"
   ]
  },
  {
   "cell_type": "markdown",
   "id": "a4f8336f",
   "metadata": {
    "vscode": {
     "languageId": "plaintext"
    }
   },
   "source": [
    "#### Initialize Sentence Transformer"
   ]
  },
  {
   "cell_type": "code",
   "execution_count": 3,
   "id": "3e482cd0-0202-4a89-854d-90b50c75e520",
   "metadata": {},
   "outputs": [],
   "source": [
    "model_name = 'multi-qa-MiniLM-L6-cos-v1'\n",
    "model = SentenceTransformer(model_name)"
   ]
  },
  {
   "cell_type": "code",
   "execution_count": 6,
   "id": "341b331f-e3aa-41b7-91a2-b42cd3a57c2e",
   "metadata": {},
   "outputs": [],
   "source": [
    "# Test encode function\n",
    "v = model.encode('How many calories are in an apple?')"
   ]
  },
  {
   "cell_type": "code",
   "execution_count": null,
   "id": "5783a592-5d76-44ee-89a7-05615ef966bf",
   "metadata": {},
   "outputs": [
    {
     "data": {
      "text/plain": [
       "384"
      ]
     },
     "execution_count": 10,
     "metadata": {},
     "output_type": "execute_result"
    }
   ],
   "source": [
    "# Vector dimensions\n",
    "len(v)"
   ]
  },
  {
   "cell_type": "markdown",
   "id": "1b2ed88c",
   "metadata": {},
   "source": [
    "#### ElasticSearch"
   ]
  },
  {
   "cell_type": "code",
   "execution_count": 11,
   "id": "620ed5a1-cc06-40a3-8627-891aed525cba",
   "metadata": {},
   "outputs": [
    {
     "data": {
      "text/plain": [
       "ObjectApiResponse({'acknowledged': True, 'shards_acknowledged': True, 'index': 'course-questions'})"
      ]
     },
     "execution_count": 11,
     "metadata": {},
     "output_type": "execute_result"
    }
   ],
   "source": [
    "es_client = Elasticsearch('http://localhost:9200')"
   ]
  },
  {
   "cell_type": "code",
   "execution_count": null,
   "id": "91ba5d1b",
   "metadata": {},
   "outputs": [],
   "source": [
    "index_settings = {\n",
    "    \"settings\": {\n",
    "        \"number_of_shards\": 1,\n",
    "        \"number_of_replicas\": 0\n",
    "    },\n",
    "    \"mappings\": {\n",
    "        \"properties\": {\n",
    "            \"Food\": {\"type\": \"text\"},\n",
    "            \"Measure\": {\"type\": \"text\"},\n",
    "            \"Grams\": {\"type\": \"float\"},\n",
    "            \"Calories\": {\"type\": \"float\"},\n",
    "            \"Protein\": {\"type\": \"float\"},\n",
    "            \"Fat\": {\"type\": \"float\"},\n",
    "            \"SatFat\": {\"type\": \"float\"},\n",
    "            \"Fiber\": {\"type\": \"float\"},\n",
    "            \"Carbs\": {\"type\": \"float\"},\n",
    "            \"Category\": {\"type\": \"keyword\"},\n",
    "            \"id\": {\"type\": \"keyword\"},\n",
    "            \"food_vector\": {\n",
    "                \"type\": \"dense_vector\",\n",
    "                \"dims\": 384,\n",
    "                \"index\": True,\n",
    "                \"similarity\": \"cosine\"\n",
    "            },\n",
    "            \"measure_vector\": {\n",
    "                \"type\": \"dense_vector\",\n",
    "                \"dims\": 384,\n",
    "                \"index\": True,\n",
    "                \"similarity\": \"cosine\"\n",
    "            },\n",
    "            \"grams_vector\": {\n",
    "                \"type\": \"dense_vector\",\n",
    "                \"dims\": 384,\n",
    "                \"index\": True,\n",
    "                \"similarity\": \"cosine\"\n",
    "            },\n",
    "             \"calories_vector\": {\n",
    "                \"type\": \"dense_vector\",\n",
    "                \"dims\": 384,\n",
    "                \"index\": True,\n",
    "                \"similarity\": \"cosine\"\n",
    "            }\n",
    "             \"protein_vector\": {\n",
    "                \"type\": \"dense_vector\",\n",
    "                \"dims\": 384,\n",
    "                \"index\": True,\n",
    "                \"similarity\": \"cosine\"\n",
    "            },\n",
    "             \"fat_vector\": {\n",
    "                \"type\": \"dense_vector\",\n",
    "                \"dims\": 384,\n",
    "                \"index\": True,\n",
    "                \"similarity\": \"cosine\"\n",
    "            }, \n",
    "            \"satfat_vector\": {\n",
    "                \"type\": \"dense_vector\",\n",
    "                \"dims\": 384,\n",
    "                \"index\": True,\n",
    "                \"similarity\": \"cosine\"\n",
    "            }, \n",
    "            \"fiber_vector\": {\n",
    "                \"type\": \"dense_vector\",\n",
    "                \"dims\": 384,\n",
    "                \"index\": True,\n",
    "                \"similarity\": \"cosine\"\n",
    "            },\n",
    "             \"carbs_vector\": {\n",
    "                \"type\": \"dense_vector\",\n",
    "                \"dims\": 384,\n",
    "                \"index\": True,\n",
    "                \"similarity\": \"cosine\"\n",
    "            }, \n",
    "            \"category_vector\": {\n",
    "                \"type\": \"dense_vector\",\n",
    "                \"dims\": 384,\n",
    "                \"index\": True,\n",
    "                \"similarity\": \"cosine\"\n",
    "            }\n",
    "        }\n",
    "    }\n",
    "}\n",
    "\n",
    "index_name = \"nutrition-facts\"\n",
    "\n",
    "es_client.indices.delete(index=index_name, ignore_unavailable=True)\n",
    "es_client.indices.create(index=index_name, body=index_settings)"
   ]
  },
  {
   "cell_type": "code",
   "execution_count": null,
   "id": "7e734ea0",
   "metadata": {},
   "outputs": [],
   "source": [
    "### Create and index document vectors\n",
    "for doc in tqdm(documents):\n",
    "    doc['food_vector'] = model.encode(str(doc['Food']))\n",
    "    doc['measure_vector'] = model.encode(str(doc['Measure']))\n",
    "    doc['grams_vector'] = model.encode(str(doc['Grams']))\n",
    "    doc['calories_vector'] = model.encode(str(doc['Calories']))\n",
    "    doc['protein_vector'] = model.encode(str(doc['Protein']))\n",
    "    doc['fat_vector'] = model.encode(str(doc['Fat']))\n",
    "    doc['satfat_vector'] = model.encode(str(doc['SatFat']))\n",
    "    doc['fiber_vector'] = model.encode(str(doc['Fiber']))\n",
    "    doc['carbs_vector'] = model.encode(str(doc['Carbs']))\n",
    "    doc['category_vector'] = model.encode(str(doc['Category']))\n",
    "    \n",
    "    es_client.index(index=index_name, document=doc)"
   ]
  },
  {
   "cell_type": "code",
   "execution_count": 15,
   "id": "82a78984-1440-4195-9513-106109013fce",
   "metadata": {},
   "outputs": [],
   "source": [
    "query = 'What are the lowest calorie options in dairy products?'"
   ]
  },
  {
   "cell_type": "code",
   "execution_count": 16,
   "id": "8a5ac3e8-8d75-48f6-8d3c-0b25d227d1f2",
   "metadata": {},
   "outputs": [],
   "source": [
    "v_q = model.encode(query)"
   ]
  },
  {
   "cell_type": "markdown",
   "id": "1b595e79",
   "metadata": {},
   "source": [
    "#### Vector Search Functions"
   ]
  },
  {
   "cell_type": "code",
   "execution_count": 29,
   "id": "ecba8e3b-7f61-402c-8106-62bde9eb1746",
   "metadata": {},
   "outputs": [],
   "source": [
    "def elastic_search_knn(field, vector):\n",
    "    knn = {\n",
    "        \"field\": field,\n",
    "        \"query_vector\": vector,\n",
    "        \"k\": 5,\n",
    "        \"num_candidates\": 10000,\n",
    "    }\n",
    "    \n",
    "\n",
    "    search_query = {\n",
    "        \"knn\": knn,\n",
    "        \"_source\": [\"Food\", \"Measure\", \"Grams\", \"Calories\", \"Protein\", \"Fat\", \"SatFat\", \"Fiber\", \"Carbs\", \"Category\", \"id\"]\n",
    "    }\n",
    "\n",
    "    es_results = es_client.search(\n",
    "        index=index_name,\n",
    "        body=search_query\n",
    "    )\n",
    "    \n",
    "    result_docs = []\n",
    "    for hit in es_results['hits']['hits']:\n",
    "        result_docs.append(hit['_source'])\n",
    "\n",
    "    return result_docs"
   ]
  },
  {
   "cell_type": "code",
   "execution_count": null,
   "id": "96922e31",
   "metadata": {},
   "outputs": [],
   "source": [
    "def food_vector_knn(q):\n",
    "    v_q = model.encode(q)\n",
    "    return elastic_search_knn('food_vector', v_q)\n",
    "\n",
    "def measure_vector_knn(q):\n",
    "    v_q = model.encode(q)\n",
    "    return elastic_search_knn('measure_vector', v_q)\n",
    "\n",
    "def grams_vector_knn(q):\n",
    "    v_q = model.encode(q)\n",
    "    return elastic_search_knn('grams_vector', v_q)\n",
    "\n",
    "def calories_vector_knn(q):\n",
    "    v_q = model.encode(q)\n",
    "    return elastic_search_knn('calories_vector', v_q)\n",
    "\n",
    "def protein_vector_knn(q):\n",
    "    v_q = model.encode(q)\n",
    "    return elastic_search_knn('protein_vector', v_q)\n",
    "\n",
    "def fat_vector_knn(q):\n",
    "    v_q = model.encode(q)\n",
    "    return elastic_search_knn('fat_vector', v_q)\n",
    "\n",
    "def satfat_vector_knn(q):\n",
    "    v_q = model.encode(q)\n",
    "    return elastic_search_knn('satfat_vector', v_q)\n",
    "\n",
    "def fiber_vector_knn(q):\n",
    "    v_q = model.encode(q)\n",
    "    return elastic_search_knn('fiber_vector', v_q)\n",
    "\n",
    "def carbs_vector_knn(q):\n",
    "    v_q = model.encode(q)\n",
    "    return elastic_search_knn('carbs_vector', v_q)\n",
    "\n",
    "def category_vector_knn(q):\n",
    "    v_q = model.encode(q)\n",
    "    return elastic_search_knn('category_vector', v_q)"
   ]
  },
  {
   "cell_type": "code",
   "execution_count": null,
   "id": "210471e2",
   "metadata": {},
   "outputs": [],
   "source": [
    "def elastic_search_knn_combined(vector):\n",
    "    search_query = {\n",
    "        \"size\": 5,\n",
    "        \"query\": {\n",
    "            \"script_score\": {\n",
    "                \"query\": {\"match_all\": {}},\n",
    "                \"script\": {\n",
    "                    \"source\": \"\"\"\n",
    "                        cosineSimilarity(params.query_vector, 'food_vector') +\n",
    "                        cosineSimilarity(params.query_vector, 'measure_vector') +\n",
    "                        cosineSimilarity(params.query_vector, 'grams_vector') +\n",
    "                        cosineSimilarity(params.query_vector, 'calories_vector') +\n",
    "                        cosineSimilarity(params.query_vector, 'protein_vector') +\n",
    "                        cosineSimilarity(params.query_vector, 'fat_vector') +\n",
    "                        cosineSimilarity(params.query_vector, 'satfat_vector') +\n",
    "                        cosineSimilarity(params.query_vector, 'fiber_vector') +\n",
    "                        cosineSimilarity(params.query_vector, 'carbs_vector') +\n",
    "                        cosineSimilarity(params.query_vector, 'category_vector') +\n",
    "                        1\n",
    "                    \"\"\",\n",
    "                    \"params\": {\n",
    "                        \"query_vector\": vector\n",
    "                    }\n",
    "                }\n",
    "            }\n",
    "        },\n",
    "        \"_source\": [\"Food\", \"Measure\", \"Grams\", \"Calories\", \"Protein\", \"Fat\", \"SatFat\", \"Fiber\", \"Carbs\", \"Category\", \"id\"]\n",
    "    }\n",
    "\n",
    "    es_results = es_client.search(\n",
    "        index=index_name,\n",
    "        body=search_query\n",
    "    )\n",
    "    \n",
    "    \n",
    "    result_docs = []\n",
    "    \n",
    "    for hit in es_results['hits']['hits']:\n",
    "        result_docs.append(hit['_source'])\n",
    "    \n",
    "    return result_docs"
   ]
  },
  {
   "cell_type": "code",
   "execution_count": null,
   "id": "114b59bc",
   "metadata": {},
   "outputs": [],
   "source": [
    "def vector_combined_knn(q):\n",
    "    v_q = model.encode(q)\n",
    "    \n",
    "    return elastic_search_knn_combined(v_q)\n",
    "\n",
    "print(\"\\nCombined Vector Search Results:\")\n",
    "combined_results = evaluate(ground_truth, vector_combined_knn)\n",
    "print(combined_results)"
   ]
  },
  {
   "cell_type": "markdown",
   "id": "d4093d2b",
   "metadata": {},
   "source": [
    "#### Test Search"
   ]
  },
  {
   "cell_type": "code",
   "execution_count": null,
   "id": "477ff9ff",
   "metadata": {},
   "outputs": [],
   "source": [
    "query = {'question': 'How many calories are in an apple?'}\n",
    "\n",
    "results = food_vector_knn(query)\n",
    "\n",
    "print(\"\\nResults:\", results)"
   ]
  },
  {
   "cell_type": "markdown",
   "id": "403faf44",
   "metadata": {},
   "source": [
    "#### Evaluation Functions"
   ]
  },
  {
   "cell_type": "markdown",
   "id": "a7e573ba",
   "metadata": {},
   "source": [
    "Hit Rate"
   ]
  },
  {
   "cell_type": "code",
   "execution_count": 37,
   "id": "8959c9ff-5bbe-4729-8fa3-cdc51ed10f5f",
   "metadata": {},
   "outputs": [],
   "source": [
    "def hit_rate(relevance_total):\n",
    "    cnt = 0\n",
    "\n",
    "    for line in relevance_total:\n",
    "        if True in line:\n",
    "            cnt = cnt + 1\n",
    "\n",
    "    return cnt / len(relevance_total)"
   ]
  },
  {
   "cell_type": "markdown",
   "id": "24e8f5a0",
   "metadata": {},
   "source": [
    "MRR"
   ]
  },
  {
   "cell_type": "code",
   "execution_count": 38,
   "id": "842255b5-18f2-4102-9689-a5835e0a621c",
   "metadata": {},
   "outputs": [],
   "source": [
    "def mrr(relevance_total):\n",
    "    total_score = 0.0\n",
    "\n",
    "    for line in relevance_total:\n",
    "        for rank in range(len(line)):\n",
    "            if line[rank] == True:\n",
    "                total_score = total_score + 1 / (rank + 1)\n",
    "\n",
    "    return total_score / len(relevance_total)"
   ]
  },
  {
   "cell_type": "markdown",
   "id": "d8c898d2",
   "metadata": {},
   "source": [
    "Ground Truth"
   ]
  },
  {
   "cell_type": "code",
   "execution_count": 39,
   "id": "f11baaff-43d9-4b8c-a896-561b86e85743",
   "metadata": {},
   "outputs": [],
   "source": [
    "def evaluate(ground_truth, search_function):\n",
    "    relevance_total = []\n",
    "\n",
    "    for q in tqdm(ground_truth):\n",
    "        doc_id = q['document']\n",
    "        results = search_function(q)\n",
    "        relevance = [d['id'] == doc_id for d in results]\n",
    "        relevance_total.append(relevance)\n",
    "\n",
    "    return {\n",
    "        'hit_rate': hit_rate(relevance_total),\n",
    "        'mrr': mrr(relevance_total),\n",
    "    }"
   ]
  },
  {
   "cell_type": "markdown",
   "id": "f41f6f64",
   "metadata": {},
   "source": [
    "### Evaluations & Results"
   ]
  },
  {
   "cell_type": "markdown",
   "id": "d676bd5e-4abc-4799-bb37-c1a86b3b9872",
   "metadata": {},
   "source": [
    "**Single Query Tests**\n",
    "- Tests how different vector searches perform on a specific question \"How many calories are in an apple?\" by showing actual retrieved results"
   ]
  },
  {
   "cell_type": "code",
   "execution_count": null,
   "id": "5c990457",
   "metadata": {},
   "outputs": [],
   "source": [
    "query = 'How many calories are in an apple?'\n",
    "\n",
    "print(\"\\nFood Vector Results:\")\n",
    "results = food_vector_knn(query)\n",
    "print(results)\n",
    "\n",
    "print(\"\\nMeasure Vector Results:\")\n",
    "results = measure_vector_knn(query)\n",
    "print(results)\n",
    "\n",
    "print(\"\\nGrams Vector Results:\")\n",
    "results = grams_vector_knn(query)\n",
    "print(results)\n",
    "\n",
    "print(\"\\nCalories Vector Results:\")\n",
    "results = calories_vector_knn(query)\n",
    "print(results)\n",
    "\n",
    "print(\"\\nProtein Vector Results:\")\n",
    "results = protein_vector_knn(query)\n",
    "print(results)\n",
    "\n",
    "print(\"\\nFat Vector Results:\")\n",
    "results = fat_vector_knn(query)\n",
    "print(results)\n",
    "\n",
    "print(\"\\nSaturated Fat Vector Results:\")\n",
    "results = satfat_vector_knn(query)\n",
    "print(results)\n",
    "\n",
    "print(\"\\nFiber Vector Results:\")\n",
    "results = fiber_vector_knn(query)\n",
    "print(results)\n",
    "\n",
    "print(\"\\nCarbs Vector Results:\")\n",
    "results = carbs_vector_knn(query)\n",
    "print(results)\n",
    "\n",
    "print(\"\\nCategory Vector Results:\")\n",
    "results = category_vector_knn(query)\n",
    "print(results)\n",
    "\n",
    "print(\"\\nCombined Vector Results:\")\n",
    "results = vector_combined_knn(query)\n",
    "print(results)"
   ]
  },
  {
   "cell_type": "code",
   "execution_count": null,
   "id": "fd9bff2c",
   "metadata": {},
   "outputs": [],
   "source": [
    "query = 'How many calories are in an apple?'\n",
    "\n",
    "query_results = []\n",
    "\n",
    "# Collect results from each vector type\n",
    "vector_types = {\n",
    "    'Food Vector': food_vector_knn,\n",
    "    'Measure Vector': measure_vector_knn,\n",
    "    'Grams Vector': grams_vector_knn,\n",
    "    'Calories Vector': calories_vector_knn,\n",
    "    'Protein Vector': protein_vector_knn,\n",
    "    'Fat Vector': fat_vector_knn,\n",
    "    'Saturated Fat Vector': satfat_vector_knn,\n",
    "    'Fiber Vector': fiber_vector_knn,\n",
    "    'Carbs Vector': carbs_vector_knn,\n",
    "    'Category Vector': category_vector_knn,\n",
    "    'Combined Vector': vector_combined_knn\n",
    "}\n",
    "\n",
    "# Get results for each vector type\n",
    "for vector_name, vector_func in vector_types.items():\n",
    "    results = vector_func(query)\n",
    "    for result in results:\n",
    "        result['Vector_Type'] = vector_name\n",
    "    query_results.extend(results)\n",
    "\n",
    "# Convert to DataFrame\n",
    "query_df = pd.DataFrame(query_results)\n",
    "\n",
    "# Display results\n",
    "print(\"\\nQuery Results DataFrame:\")\n",
    "print(query_df)"
   ]
  },
  {
   "cell_type": "markdown",
   "id": "201a93c4",
   "metadata": {},
   "source": [
    "**Ground Truth Performance**\n",
    "- Evaluates each vector type's retrieval accuracy against known correct answers using hit rate and MRR metrics "
   ]
  },
  {
   "cell_type": "code",
   "execution_count": null,
   "id": "7622fcb5",
   "metadata": {},
   "outputs": [],
   "source": [
    "print(\"\\nFood Vector Results:\")\n",
    "print(evaluate(ground_truth, food_vector_knn))\n",
    "\n",
    "print(\"\\nMeasure Vector Results:\")\n",
    "print(evaluate(ground_truth, measure_vector_knn))\n",
    "\n",
    "print(\"\\nGrams Vector Results:\")\n",
    "print(evaluate(ground_truth, grams_vector_knn))\n",
    "\n",
    "print(\"\\nCalories Vector Results:\")\n",
    "print(evaluate(ground_truth, calories_vector_knn))\n",
    "\n",
    "print(\"\\nProtein Vector Results:\")\n",
    "print(evaluate(ground_truth, protein_vector_knn))\n",
    "\n",
    "print(\"\\nFat Vector Results:\")\n",
    "print(evaluate(ground_truth, fat_vector_knn))\n",
    "\n",
    "print(\"\\nSaturated Fat Vector Results:\")\n",
    "print(evaluate(ground_truth, satfat_vector_knn))\n",
    "\n",
    "print(\"\\nFiber Vector Results:\")\n",
    "print(evaluate(ground_truth, fiber_vector_knn))\n",
    "\n",
    "print(\"\\nCarbs Vector Results:\")\n",
    "print(evaluate(ground_truth, carbs_vector_knn))\n",
    "\n",
    "print(\"\\nCategory Vector Results:\")\n",
    "print(evaluate(ground_truth, category_vector_knn))"
   ]
  },
  {
   "cell_type": "code",
   "execution_count": null,
   "id": "c3a74491",
   "metadata": {},
   "outputs": [],
   "source": [
    "# Create list to store evaluation results\n",
    "eval_results = []\n",
    "\n",
    "# Collect evaluation metrics for each vector type\n",
    "for vector_name, vector_func in vector_types.items():\n",
    "    metrics = evaluate(ground_truth, vector_func)\n",
    "    eval_results.append({\n",
    "        'Vector_Type': vector_name,\n",
    "        'Hit_Rate': metrics['hit_rate'],\n",
    "        'MRR': metrics['mrr']\n",
    "    })\n",
    "\n",
    "# Convert to DataFrame\n",
    "eval_df = pd.DataFrame(eval_results)\n",
    "\n",
    "# Display results\n",
    "print(\"\\nGround Truth Evaluation DataFrame:\")\n",
    "print(eval_df)"
   ]
  },
  {
   "cell_type": "markdown",
   "id": "fee00291",
   "metadata": {},
   "source": [
    "**Vector Performance Comparison**\n",
    "- Provides a condensed side-by-side comparison of how each vector type performs against ground truth"
   ]
  },
  {
   "cell_type": "code",
   "execution_count": null,
   "id": "a948c238",
   "metadata": {},
   "outputs": [],
   "source": [
    "# Results comparison\n",
    "print(\"\\nFinal Comparison:\")\n",
    "\n",
    "comparison_data = {\n",
    "    'Vector_Type': [],\n",
    "    'Hit_Rate': [],\n",
    "    'MRR': []\n",
    "}\n",
    "print(\"Food Vector:\", evaluate(ground_truth, food_vector_knn))\n",
    "print(\"Measure Vector:\", evaluate(ground_truth, measure_vector_knn))\n",
    "print(\"Grams Vector:\", evaluate(ground_truth, grams_vector_knn))\n",
    "print(\"Calories Vector:\", evaluate(ground_truth, calories_vector_knn))\n",
    "print(\"Protein Vector:\", evaluate(ground_truth, protein_vector_knn))\n",
    "print(\"Fat Vector:\", evaluate(ground_truth, fat_vector_knn))\n",
    "print(\"SatFat Vector:\", evaluate(ground_truth, satfat_vector_knn))\n",
    "print(\"Fiber Vector:\", evaluate(ground_truth, fiber_vector_knn))\n",
    "print(\"Carbs Vector:\", evaluate(ground_truth, carbs_vector_knn))\n",
    "print(\"Category Vector:\", evaluate(ground_truth, category_vector_knn))\n",
    "print(\"Combined:\", combined_results)"
   ]
  },
  {
   "cell_type": "code",
   "execution_count": null,
   "id": "3bdb3a93",
   "metadata": {},
   "outputs": [],
   "source": [
    "# Create a new DataFrame specifically for comparison results\n",
    "comparison_results = {\n",
    "    'Vector_Type': ['Food Vector', 'Measure Vector', 'Grams Vector', 'Calories Vector', \n",
    "                    'Protein Vector', 'Fat Vector', 'SatFat Vector', 'Fiber Vector', \n",
    "                    'Carbs Vector', 'Category Vector', 'Combined'],\n",
    "    'Hit_Rate': [],\n",
    "    'MRR': []\n",
    "}\n",
    "\n",
    "comparison_results['Hit_Rate'].extend([\n",
    "    evaluate(ground_truth, food_vector_knn)['hit_rate'],\n",
    "    evaluate(ground_truth, measure_vector_knn)['hit_rate'],\n",
    "    evaluate(ground_truth, grams_vector_knn)['hit_rate'],\n",
    "    evaluate(ground_truth, calories_vector_knn)['hit_rate'],\n",
    "    evaluate(ground_truth, protein_vector_knn)['hit_rate'],\n",
    "    evaluate(ground_truth, fat_vector_knn)['hit_rate'],\n",
    "    evaluate(ground_truth, satfat_vector_knn)['hit_rate'],\n",
    "    evaluate(ground_truth, fiber_vector_knn)['hit_rate'],\n",
    "    evaluate(ground_truth, carbs_vector_knn)['hit_rate'],\n",
    "    evaluate(ground_truth, category_vector_knn)['hit_rate'],\n",
    "    combined_results['hit_rate']\n",
    "])\n",
    "\n",
    "comparison_results['MRR'].extend([\n",
    "    evaluate(ground_truth, food_vector_knn)['mrr'],\n",
    "    evaluate(ground_truth, measure_vector_knn)['mrr'],\n",
    "    evaluate(ground_truth, grams_vector_knn)['mrr'],\n",
    "    evaluate(ground_truth, calories_vector_knn)['mrr'],\n",
    "    evaluate(ground_truth, protein_vector_knn)['mrr'],\n",
    "    evaluate(ground_truth, fat_vector_knn)['mrr'],\n",
    "    evaluate(ground_truth, satfat_vector_knn)['mrr'],\n",
    "    evaluate(ground_truth, fiber_vector_knn)['mrr'],\n",
    "    evaluate(ground_truth, carbs_vector_knn)['mrr'],\n",
    "    evaluate(ground_truth, category_vector_knn)['mrr'],\n",
    "    combined_results['mrr']\n",
    "])\n",
    "\n",
    "comparison_df = pd.DataFrame(comparison_results)\n",
    "\n",
    "print(\"\\nComparison Results DataFrame:\")\n",
    "print(comparison_df)"
   ]
  }
 ],
 "metadata": {
  "kernelspec": {
   "display_name": "Python 3 (ipykernel)",
   "language": "python",
   "name": "python3"
  },
  "language_info": {
   "codemirror_mode": {
    "name": "ipython",
    "version": 3
   },
   "file_extension": ".py",
   "mimetype": "text/x-python",
   "name": "python",
   "nbconvert_exporter": "python",
   "pygments_lexer": "ipython3",
   "version": "3.12.3"
  }
 },
 "nbformat": 4,
 "nbformat_minor": 5
}
