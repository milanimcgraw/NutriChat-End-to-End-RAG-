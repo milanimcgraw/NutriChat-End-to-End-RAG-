{
 "cells": [
  {
   "cell_type": "markdown",
   "id": "82e471cb-7aec-4c00-9eed-36e6f2447eb5",
   "metadata": {},
   "source": [
    "### NutriChat - RAG System Evaluation\n",
    "\n",
    "This notebook evaluates our RAG system performance using:\n",
    "1. Cosine similarity between generated and original answers\n",
    "2. LLM as a judge for response quality\n",
    "3. Analysis across different food categories\n",
    "4. Performance comparison across different LLMs ('GPT-4o, GPT-4o mini, GPT-3.5)"
   ]
  },
  {
   "cell_type": "markdown",
   "id": "5584d181",
   "metadata": {},
   "source": [
    "#### Imports"
   ]
  },
  {
   "cell_type": "code",
   "execution_count": null,
   "id": "bd91b058",
   "metadata": {},
   "outputs": [],
   "source": [
    "import pandas as pd\n",
    "import numpy as np\n",
    "from tqdm.auto import tqdm\n",
    "import json\n",
    "import requests\n",
    "import seaborn as sns\n",
    "from openai import OpenAI\n",
    "from elasticsearch import Elasticsearch\n",
    "from sentence_transformers import SentenceTransformer\n",
    "from concurrent.futures import ThreadPoolExecutor"
   ]
  },
  {
   "cell_type": "markdown",
   "id": "08423017",
   "metadata": {},
   "source": [
    "#### Data"
   ]
  },
  {
   "cell_type": "markdown",
   "id": "09f1bacb",
   "metadata": {},
   "source": [
    "Documents with IDs "
   ]
  },
  {
   "cell_type": "code",
   "execution_count": null,
   "id": "326a6293",
   "metadata": {},
   "outputs": [],
   "source": [
    "# Load data\n",
    "docs_url = 'https://raw.githubusercontent.com/milanimcgraw/NutriChat/main/nutrition-docs-with-ids.json'\n",
    "docs_response = requests.get(docs_url)\n",
    "documents = docs_response.json()\n"
   ]
  },
  {
   "cell_type": "code",
   "execution_count": null,
   "id": "f745e802-1cb5-4e77-afa0-a4e276270a62",
   "metadata": {},
   "outputs": [],
   "source": [
    "documents[:5]"
   ]
  },
  {
   "cell_type": "code",
   "execution_count": null,
   "id": "a392c1b4",
   "metadata": {},
   "outputs": [],
   "source": [
    "doc_idx = {d['id']: d for d in documents}"
   ]
  },
  {
   "cell_type": "markdown",
   "id": "a7ae822b",
   "metadata": {},
   "source": [
    "Ground Truth"
   ]
  },
  {
   "cell_type": "code",
   "execution_count": 3,
   "id": "79da91e5-bb37-4a7a-860b-0d3909f5de88",
   "metadata": {},
   "outputs": [],
   "source": [
    "# Load ground truth data\n",
    "gt_url = 'https://raw.githubusercontent.com/milanimcgraw/NutriChat/main/nutrichat-groundtruthdata.csv'\n",
    "df_ground_truth = pd.read_csv(gt_url)\n",
    "ground_truth = df_ground_truth.to_dict(orient='records')"
   ]
  },
  {
   "cell_type": "code",
   "execution_count": null,
   "id": "4b830c7b-03a9-44be-93cd-3a0e7da12eed",
   "metadata": {},
   "outputs": [],
   "source": [
    "ground_truth[:5]"
   ]
  },
  {
   "cell_type": "code",
   "execution_count": null,
   "id": "a7c10d2e",
   "metadata": {},
   "outputs": [],
   "source": [
    "len(ground_truth)"
   ]
  },
  {
   "cell_type": "code",
   "execution_count": null,
   "id": "7f8b28d2",
   "metadata": {},
   "outputs": [],
   "source": [
    "rec"
   ]
  },
  {
   "cell_type": "code",
   "execution_count": null,
   "id": "42fb5c38",
   "metadata": {},
   "outputs": [],
   "source": [
    "doc_idx = {d['id']: d for d in documents}\n",
    "# doc_idx['5170565b']['text']"
   ]
  },
  {
   "cell_type": "markdown",
   "id": "1dba2daf",
   "metadata": {},
   "source": [
    "#### Initialize models"
   ]
  },
  {
   "cell_type": "markdown",
   "id": "6ab58f93",
   "metadata": {},
   "source": [
    "Sentence Transformer"
   ]
  },
  {
   "cell_type": "code",
   "execution_count": 4,
   "id": "3f61b1fe-f67a-4217-9fbe-5fd57eefd53d",
   "metadata": {},
   "outputs": [],
   "source": [
    "model_name = 'multi-qa-MiniLM-L6-cos-v1'\n",
    "model = SentenceTransformer(model_name)"
   ]
  },
  {
   "cell_type": "markdown",
   "id": "25717de4",
   "metadata": {},
   "source": [
    "OpenAI "
   ]
  },
  {
   "cell_type": "code",
   "execution_count": null,
   "id": "c193be9b",
   "metadata": {},
   "outputs": [],
   "source": [
    "client = OpenAI()"
   ]
  },
  {
   "cell_type": "markdown",
   "id": "6e3cde68",
   "metadata": {},
   "source": [
    "ElasticSearch"
   ]
  },
  {
   "cell_type": "code",
   "execution_count": null,
   "id": "28e57eb2",
   "metadata": {},
   "outputs": [],
   "source": [
    "es_client = Elasticsearch('http://localhost:9200') "
   ]
  },
  {
   "cell_type": "markdown",
   "id": "92acc3c1",
   "metadata": {},
   "source": [
    "#### Indexing"
   ]
  },
  {
   "cell_type": "code",
   "execution_count": null,
   "id": "0b001658",
   "metadata": {},
   "outputs": [],
   "source": [
    "index_settings = {\n",
    "    \"settings\": {\n",
    "        \"number_of_shards\": 1,\n",
    "        \"number_of_replicas\": 0\n",
    "    },\n",
    "    \"mappings\": {\n",
    "        \"properties\": {\n",
    "            \"Food\": {\"type\": \"text\"},\n",
    "            \"Measure\": {\"type\": \"text\"},\n",
    "            \"Grams\": {\"type\": \"float\"},\n",
    "            \"Calories\": {\"type\": \"float\"},\n",
    "            \"Protein\": {\"type\": \"float\"},\n",
    "            \"Fat\": {\"type\": \"float\"},\n",
    "            \"Sat.Fat\": {\"type\": \"float\"},\n",
    "            \"Fiber\": {\"type\": \"float\"},\n",
    "            \"Carbs\": {\"type\": \"float\"},\n",
    "            \"Category\": {\"type\": \"keyword\"},\n",
    "            \"id\": {\"type\": \"keyword\"},\n",
    "            \"food_vector\": {\n",
    "                \"type\": \"dense_vector\",\n",
    "                \"dims\": 384,\n",
    "                \"index\": True,\n",
    "                \"similarity\": \"cosine\"\n",
    "            },\n",
    "            \"measure_vector\": {\n",
    "                \"type\": \"dense_vector\",\n",
    "                \"dims\": 384,\n",
    "                \"index\": True,\n",
    "                \"similarity\": \"cosine\"\n",
    "            },\n",
    "            \"grams_vector\": {\n",
    "                \"type\": \"dense_vector\",\n",
    "                \"dims\": 384,\n",
    "                \"index\": True,\n",
    "                \"similarity\": \"cosine\"\n",
    "            },\n",
    "             \"calories_vector\": {\n",
    "                \"type\": \"dense_vector\",\n",
    "                \"dims\": 384,\n",
    "                \"index\": True,\n",
    "                \"similarity\": \"cosine\"\n",
    "            },\n",
    "             \"protein_vector\": {\n",
    "                \"type\": \"dense_vector\",\n",
    "                \"dims\": 384,\n",
    "                \"index\": True,\n",
    "                \"similarity\": \"cosine\"\n",
    "            },\n",
    "             \"fat_vector\": {\n",
    "                \"type\": \"dense_vector\",\n",
    "                \"dims\": 384,\n",
    "                \"index\": True,\n",
    "                \"similarity\": \"cosine\"\n",
    "            }, \n",
    "            \"satfat_vector\": {\n",
    "                \"type\": \"dense_vector\",\n",
    "                \"dims\": 384,\n",
    "                \"index\": True,\n",
    "                \"similarity\": \"cosine\"\n",
    "            }, \n",
    "            \"fiber_vector\": {\n",
    "                \"type\": \"dense_vector\",\n",
    "                \"dims\": 384,\n",
    "                \"index\": True,\n",
    "                \"similarity\": \"cosine\"\n",
    "            },\n",
    "             \"carbs_vector\": {\n",
    "                \"type\": \"dense_vector\",\n",
    "                \"dims\": 384,\n",
    "                \"index\": True,\n",
    "                \"similarity\": \"cosine\"\n",
    "            }, \n",
    "            \"category_vector\": {\n",
    "                \"type\": \"dense_vector\",\n",
    "                \"dims\": 384,\n",
    "                \"index\": True,\n",
    "                \"similarity\": \"cosine\"\n",
    "            }\n",
    "        }\n",
    "    }\n",
    "}\n",
    "\n",
    "index_name = \"nutrition-facts\"\n",
    "\n",
    "es_client.indices.delete(index=index_name, ignore_unavailable=True)\n",
    "es_client.indices.create(index=index_name, body=index_settings)"
   ]
  },
  {
   "cell_type": "code",
   "execution_count": null,
   "id": "8c6a9ac0",
   "metadata": {},
   "outputs": [],
   "source": [
    "### Create and index document vectors\n",
    "for doc in tqdm(documents):\n",
    "    doc['food_vector'] = model.encode(str(doc['Food']))\n",
    "    doc['measure_vector'] = model.encode(str(doc['Measure']))\n",
    "    doc['grams_vector'] = model.encode(str(doc['Grams']))\n",
    "    doc['calories_vector'] = model.encode(str(doc['Calories']))\n",
    "    doc['protein_vector'] = model.encode(str(doc['Protein']))\n",
    "    doc['fat_vector'] = model.encode(str(doc['Fat']))\n",
    "    doc['satfat_vector'] = model.encode(str(doc['SatFat']))\n",
    "    doc['fiber_vector'] = model.encode(str(doc['Fiber']))\n",
    "    doc['carbs_vector'] = model.encode(str(doc['Carbs']))\n",
    "    doc['category_vector'] = model.encode(str(doc['Category']))\n",
    "    \n",
    "    es_client.index(index=index_name, document=doc)"
   ]
  },
  {
   "cell_type": "markdown",
   "id": "80a0283a",
   "metadata": {},
   "source": [
    "#### Retrieval"
   ]
  },
  {
   "cell_type": "code",
   "execution_count": null,
   "id": "b4aab182",
   "metadata": {},
   "outputs": [],
   "source": [
    "def elastic_search_knn(field, vector):\n",
    "    knn = {\n",
    "        \"field\": field,\n",
    "        \"query_vector\": vector,\n",
    "        \"k\": 5,\n",
    "        \"num_candidates\": 10000,\n",
    "    }\n",
    "    \n",
    "\n",
    "    search_query = {\n",
    "        \"knn\": knn,\n",
    "        \"_source\": [\"Food\", \"Measure\", \"Grams\", \"Calories\", \"Protein\", \"Fat\", \"SatFat\", \"Fiber\", \"Carbs\", \"Category\", \"id\"]\n",
    "    }\n",
    "\n",
    "    es_results = es_client.search(\n",
    "        index=index_name,\n",
    "        body=search_query\n",
    "    )\n",
    "    \n",
    "    result_docs = []\n",
    "    for hit in es_results['hits']['hits']:\n",
    "        result_docs.append(hit['_source'])\n",
    "\n",
    "    return result_docs"
   ]
  },
  {
   "cell_type": "code",
   "execution_count": null,
   "id": "3d10fbbd",
   "metadata": {},
   "outputs": [],
   "source": [
    "# Category Vector\n",
    "def category_vector_knn(q):\n",
    "    \"\"\"Search using category vector\"\"\"\n",
    "    question = q['question']\n",
    "    category = q['category']\n",
    "    v_q = model.encode(question)\n",
    "    return elastic_search_knn('category_vector', v_q, category)"
   ]
  },
  {
   "cell_type": "code",
   "execution_count": null,
   "id": "504a6300",
   "metadata": {},
   "outputs": [],
   "source": [
    "# Test  \n",
    "category_vector_knn(dict(\n",
    "    question='Show me low-calorie dairy options',\n",
    "    category='Dairy products'\n",
    "))"
   ]
  },
  {
   "cell_type": "markdown",
   "id": "443cb32b-5018-477a-b215-647a1ee0eb9c",
   "metadata": {},
   "source": [
    "#### RAG Pipeline Functions"
   ]
  },
  {
   "cell_type": "code",
   "execution_count": null,
   "id": "9a155184-278e-4ffe-b4fd-799747a6bc00",
   "metadata": {},
   "outputs": [],
   "source": [
    "# Build Prompt \n",
    "def build_prompt(query, search_results):\n",
    "    prompt_template = \"\"\"\n",
    "    You're a nutritionist working as a nutrition facts chat assistant. Answer the QUESTION based on the CONTEXT from the nutrition data.\n",
    "    Use only the facts from the CONTEXT when answering the QUESTION. Be specific about measurements and values.\n",
    "\n",
    "    QUESTION: {question}\n",
    "\n",
    "    CONTEXT: \n",
    "    {context}\n",
    "    \"\"\".strip()\n",
    "\n",
    "    context = \"\"\n",
    "    for doc in search_results:\n",
    "        context = context + f\"Food: {doc['Food']}\\n\"\n",
    "        context = context + f\"Measure: {doc['Measure']}\\n\"\n",
    "        context = context + f\"Nutritional Information: {doc['Calories']} calories, {doc['Protein']}g protein, \"\n",
    "        context = context + f\"{doc['Fat']}g fat, {doc['SatFat']}g saturated fat, \"\n",
    "        context = context + f\"{doc['Fiber']}g fiber, {doc['Carbs']}g carbohydrates\\n\"\n",
    "        context = context + f\"Category: {doc['Category']}\\n\\n\"\n",
    "    \n",
    "    prompt = prompt_template.format(question=query, context=context).strip()\n",
    "    return prompt"
   ]
  },
  {
   "cell_type": "code",
   "execution_count": 115,
   "id": "acbc99bb-1a84-42de-82f6-b68b563b7154",
   "metadata": {},
   "outputs": [],
   "source": [
    "# LLM Function\n",
    "# client = OpenAI() --already initialized\n",
    "def llm(prompt, model='gpt-4o'):\n",
    "    response = client.chat.completions.create(\n",
    "        model=model,\n",
    "        messages=[{\"role\": \"user\", \"content\": prompt}]\n",
    "    )\n",
    "    \n",
    "    return response.choices[0].message.content"
   ]
  },
  {
   "cell_type": "code",
   "execution_count": null,
   "id": "7c025101-f138-44fb-a7fa-2159a426422a",
   "metadata": {},
   "outputs": [],
   "source": [
    "# Pipeline \n",
    "def rag(query: dict, model='gpt-4o') -> str:\n",
    "    \"\"\"Full RAG pipeline\"\"\"\n",
    "    search_results = category_vector_knn(query) \n",
    "    prompt = build_prompt(query['question'], search_results)\n",
    "    answer = llm(prompt, model=model)\n",
    "    return answer"
   ]
  },
  {
   "cell_type": "code",
   "execution_count": null,
   "id": "78c9f002",
   "metadata": {},
   "outputs": [],
   "source": [
    "ground_truth[10]"
   ]
  },
  {
   "cell_type": "code",
   "execution_count": null,
   "id": "33842235",
   "metadata": {},
   "outputs": [],
   "source": [
    "rag(ground_truth[10])"
   ]
  },
  {
   "cell_type": "code",
   "execution_count": null,
   "id": "38edfeeb",
   "metadata": {},
   "outputs": [],
   "source": [
    "# doc_idx['5170565b']['text']"
   ]
  },
  {
   "cell_type": "markdown",
   "id": "3c26035e-ea80-4817-93a9-46a6af4eaf91",
   "metadata": {},
   "source": [
    "#### Cosine Similarity Metric\n",
    "\n",
    ">A->Q->A' cosine similarity,\n",
    ">A -> Q -> A',\n",
    ">cosine(A, A')"
   ]
  },
  {
   "cell_type": "code",
   "execution_count": null,
   "id": "754db44d-5e73-4784-9369-707691fb9229",
   "metadata": {},
   "outputs": [],
   "source": [
    "code block = \"\"\"answer_orig = 'Yes, sessions are recorded if you miss one. Everything is recorded, allowing you to catch up on any missed content. Additionally, you can ask questions in advance for office hours and have them addressed during the live stream. You can also ask questions in Slack.'\n",
    "answer_llm = 'Everything is recorded, so you won’t miss anything. You will be able to ask your questions for office hours in advance and we will cover them during the live stream. Also, you can always ask questions in Slack.'\"\"\"\n",
    "    \n",
    "v_llm = model.encode(answer_llm)\n",
    "v_orig = model.encode(answer_orig)\n",
    "    \n",
    "return v_llm.dot(v_orig)"
   ]
  },
  {
   "cell_type": "code",
   "execution_count": null,
   "id": "db605e72-f5cf-4402-ab78-4fd831a1c6de",
   "metadata": {},
   "outputs": [],
   "source": [
    "answers = {}"
   ]
  },
  {
   "cell_type": "code",
   "execution_count": null,
   "id": "9e470ca3-6c27-4a62-a1d9-6ea9fc3e84f5",
   "metadata": {},
   "outputs": [],
   "source": [
    "for i, rec in enumerate(tqdm(ground_truth)):\n",
    "    if i in answers:\n",
    "        continue\n",
    "\n",
    "    answer_llm = rag(rec)\n",
    "    doc_id = rec['document']\n",
    "    original_doc = doc_idx[doc_id]\n",
    "    answer_orig = original_doc['text']\n",
    "\n",
    "    answers[i] = {\n",
    "        'answer_llm': answer_llm,\n",
    "        'answer_orig': answer_orig,\n",
    "        'document': doc_id,\n",
    "        'question': rec['question'],\n",
    "        'category': rec['category'],\n",
    "    }\n",
    "    "
   ]
  },
  {
   "cell_type": "markdown",
   "id": "36eb1678",
   "metadata": {},
   "source": [
    "##### **GPT-4o**"
   ]
  },
  {
   "cell_type": "code",
   "execution_count": 107,
   "id": "2b63fb6d-f125-42b4-a634-52c3c17e582d",
   "metadata": {
    "scrolled": true
   },
   "outputs": [],
   "source": [
    "results_gpt4o = [None] * len(ground_truth)\n",
    "\n",
    "for i, val in answers.items():\n",
    "    results_gpt4o[i] = val.copy()\n",
    "    results_gpt4o[i].update(ground_truth[i])"
   ]
  },
  {
   "cell_type": "code",
   "execution_count": 95,
   "id": "3d68aec3-c05f-447d-9795-eb6c82c439ae",
   "metadata": {},
   "outputs": [],
   "source": [
    "import pandas as pd"
   ]
  },
  {
   "cell_type": "code",
   "execution_count": 110,
   "id": "141bf0e3-b25d-474f-a633-53d4189daf77",
   "metadata": {},
   "outputs": [],
   "source": [
    "df_gpt4o = pd.DataFrame(results_gpt4o)"
   ]
  },
  {
   "cell_type": "code",
   "execution_count": 112,
   "id": "3804e23f-e75d-41c1-9ab9-b2691c3c3a8e",
   "metadata": {},
   "outputs": [],
   "source": [
    "!mkdir Results"
   ]
  },
  {
   "cell_type": "code",
   "execution_count": 113,
   "id": "7d923470-0433-4b3d-890c-813161550efb",
   "metadata": {},
   "outputs": [],
   "source": [
    "df_gpt4o.to_csv('Results/nutrichat-gpt4oevalresults.csv', index=False)"
   ]
  },
  {
   "cell_type": "markdown",
   "id": "55f32fc1-96f2-45c8-b22f-45c72c0786e0",
   "metadata": {},
   "source": [
    "##### **GPT 3.5 Turbo**"
   ]
  },
  {
   "cell_type": "code",
   "execution_count": null,
   "id": "e6678220-4686-41d2-9d6b-878498728cce",
   "metadata": {},
   "outputs": [],
   "source": [
    "rag(ground_truth[10], model='gpt-3.5-turbo')"
   ]
  },
  {
   "cell_type": "code",
   "execution_count": 120,
   "id": "bfdc6e3c-a9d4-4ae8-8379-c9c90efc23b6",
   "metadata": {},
   "outputs": [],
   "source": [
    "pool = ThreadPoolExecutor(max_workers=6)\n",
    "\n",
    "def map_progress(pool, seq, f):\n",
    "    results = []\n",
    "\n",
    "    with tqdm(total=len(seq)) as progress:\n",
    "        futures = []\n",
    "\n",
    "        for el in seq:\n",
    "            future = pool.submit(f, el)\n",
    "            future.add_done_callback(lambda p: progress.update())\n",
    "            futures.append(future)\n",
    "\n",
    "        for future in futures:\n",
    "            result = future.result()\n",
    "            results.append(result)\n",
    "\n",
    "    return results"
   ]
  },
  {
   "cell_type": "code",
   "execution_count": 121,
   "id": "9c725d15-c355-4978-b598-81526fe298ec",
   "metadata": {},
   "outputs": [],
   "source": [
    "def process_record(rec):\n",
    "    model = 'gpt-3.5-turbo'\n",
    "    answer_llm = rag(rec, model=model)\n",
    "    \n",
    "    doc_id = rec['document']\n",
    "    original_doc = doc_idx[doc_id]\n",
    "    answer_orig = original_doc['text']\n",
    "\n",
    "    return {\n",
    "        'answer_llm': answer_llm,\n",
    "        'answer_orig': answer_orig,\n",
    "        'document': doc_id,\n",
    "        'question': rec['question'],\n",
    "        'category': rec['category'],\n",
    "    }"
   ]
  },
  {
   "cell_type": "code",
   "execution_count": null,
   "id": "dfd12868-c71e-45da-9557-d22f720c04a5",
   "metadata": {},
   "outputs": [],
   "source": [
    "process_record(ground_truth[10])"
   ]
  },
  {
   "cell_type": "code",
   "execution_count": null,
   "id": "0a0f73f6-7542-4351-9839-ba3129d0da44",
   "metadata": {},
   "outputs": [],
   "source": [
    "results_gpt35 = map_progress(pool, ground_truth, process_record)"
   ]
  },
  {
   "cell_type": "code",
   "execution_count": 124,
   "id": "79eaa48a-7b55-4ff3-a4d5-16ce0e4fedd0",
   "metadata": {},
   "outputs": [],
   "source": [
    "df_gpt35 = pd.DataFrame(results_gpt35)\n",
    "df_gpt35.to_csv('Results/nutrichat-gpt35evalresults.csv', index=False)"
   ]
  },
  {
   "cell_type": "code",
   "execution_count": null,
   "id": "b8a88bd2-7553-4222-8efc-530860f0c31a",
   "metadata": {},
   "outputs": [],
   "source": [
    "!head Results/nutrichat-gpt35evalresults.csv"
   ]
  },
  {
   "cell_type": "markdown",
   "id": "62c160db",
   "metadata": {},
   "source": [
    "### Cosine Similarity (Eval)"
   ]
  },
  {
   "cell_type": "markdown",
   "id": "ae5a07d5",
   "metadata": {},
   "source": [
    "##### **Evaluating GPT-4o**"
   ]
  },
  {
   "cell_type": "code",
   "execution_count": 128,
   "id": "2af96a0d-627a-4f32-9965-c90ba542d65c",
   "metadata": {},
   "outputs": [],
   "source": [
    "nutrichat-gpt4oevalresults.csv = df_gpt4o.to_dict(orient='records')"
   ]
  },
  {
   "cell_type": "code",
   "execution_count": 130,
   "id": "e8bfb5a3-06da-4459-bbc4-eed5ed1a84ce",
   "metadata": {},
   "outputs": [],
   "source": [
    "record = nutrichat-gpt4oevalresults.csv[0]"
   ]
  },
  {
   "cell_type": "code",
   "execution_count": 134,
   "id": "453b5a1d-a0cc-4023-aa74-de23a65ce71c",
   "metadata": {},
   "outputs": [],
   "source": [
    "def compute_similarity(record):\n",
    "    answer_orig = record['answer_orig']\n",
    "    answer_llm = record['answer_llm']\n",
    "    \n",
    "    v_llm = model.encode(answer_llm)\n",
    "    v_orig = model.encode(answer_orig)\n",
    "    \n",
    "    return v_llm.dot(v_orig)"
   ]
  },
  {
   "cell_type": "code",
   "execution_count": 135,
   "id": "9b70aad3-71f4-46a4-81df-9c34ecfa6283",
   "metadata": {},
   "outputs": [
    {
     "data": {
      "application/vnd.jupyter.widget-view+json": {
       "model_id": "33bcfad06b244bfdb457fb3396e72e48",
       "version_major": 2,
       "version_minor": 0
      },
      "text/plain": [
       "  0%|          | 0/1830 [00:00<?, ?it/s]"
      ]
     },
     "metadata": {},
     "output_type": "display_data"
    }
   ],
   "source": [
    "similarity = []\n",
    "\n",
    "for record in tqdm(results_gpt4o):\n",
    "    sim = compute_similarity(record)\n",
    "    similarity.append(sim)"
   ]
  },
  {
   "cell_type": "code",
   "execution_count": null,
   "id": "39e10c57-34a0-41bf-9867-10a50fc6d9ac",
   "metadata": {},
   "outputs": [],
   "source": [
    "df_gpt4o['cosine'] = similarity\n",
    "df_gpt4o['cosine'].describe()"
   ]
  },
  {
   "cell_type": "code",
   "execution_count": null,
   "id": "96b69a9a-ecd6-43fa-85da-e4ca00bdc61b",
   "metadata": {},
   "outputs": [],
   "source": [
    "import seaborn as sns"
   ]
  },
  {
   "cell_type": "markdown",
   "id": "0651cb0c-96f7-449e-93a4-66f1e6e1c31d",
   "metadata": {},
   "source": [
    "##### **Evaluating GPT-3.5-turbo**"
   ]
  },
  {
   "cell_type": "code",
   "execution_count": null,
   "id": "3f497b01-c8c6-4809-8ac8-2be8db0ca578",
   "metadata": {},
   "outputs": [],
   "source": [
    "results_gpt35 = df_gpt35.to_dict(orient='records')\n",
    "\n",
    "similarity_35 = []\n",
    "\n",
    "for record in tqdm(results_gpt35):\n",
    "    sim = compute_similarity(record)\n",
    "    similarity_35.append(sim)"
   ]
  },
  {
   "cell_type": "code",
   "execution_count": null,
   "id": "524528a3-1651-4200-8240-badcaeee67ec",
   "metadata": {},
   "outputs": [],
   "source": [
    "df_gpt35['cosine'] = similarity_35\n",
    "df_gpt35['cosine'].describe()"
   ]
  },
  {
   "cell_type": "code",
   "execution_count": 149,
   "id": "41e8a2ab-af71-48ea-8128-724160150592",
   "metadata": {},
   "outputs": [],
   "source": [
    "import matplotlib.pyplot as plt"
   ]
  },
  {
   "cell_type": "markdown",
   "id": "b311e4c3",
   "metadata": {},
   "source": [
    "##### **GPT-4o-mini**"
   ]
  },
  {
   "cell_type": "code",
   "execution_count": 151,
   "id": "17e1ff94-5cea-4d36-b80c-ba31026663d7",
   "metadata": {},
   "outputs": [],
   "source": [
    "def process_record_4o_mini(rec):\n",
    "    model = 'gpt-4o-mini'\n",
    "    answer_llm = rag(rec, model=model)\n",
    "    \n",
    "    doc_id = rec['document']\n",
    "    original_doc = doc_idx[doc_id]\n",
    "    answer_orig = original_doc['text']\n",
    "\n",
    "    return {\n",
    "        'answer_llm': answer_llm,\n",
    "        'answer_orig': answer_orig,\n",
    "        'document': doc_id,\n",
    "        'question': rec['question'],\n",
    "        'category': rec['category'],\n",
    "    }"
   ]
  },
  {
   "cell_type": "code",
   "execution_count": null,
   "id": "2e24207e-9ca8-4717-9e71-c0d3d0f62046",
   "metadata": {},
   "outputs": [],
   "source": [
    "process_record_4o_mini(ground_truth[10])"
   ]
  },
  {
   "cell_type": "code",
   "execution_count": null,
   "id": "c7d54408-6264-4ecf-8f71-d637706c1be3",
   "metadata": {},
   "outputs": [],
   "source": [
    "results_gpt4omini = []"
   ]
  },
  {
   "cell_type": "code",
   "execution_count": null,
   "id": "6fecebc2-d7c6-4474-b17c-5732f47fe366",
   "metadata": {},
   "outputs": [],
   "source": [
    "for record in tqdm(ground_truth):\n",
    "    result = process_record_4o_mini(record)\n",
    "    results_gpt4omini.append(result)"
   ]
  },
  {
   "cell_type": "code",
   "execution_count": 160,
   "id": "028defb1-9250-49c8-8c93-432e94a77763",
   "metadata": {},
   "outputs": [],
   "source": [
    "df_gpt4o_mini = pd.DataFrame(results_gpt4omini)\n",
    "df_gpt4o_mini.to_csv('Results/nutrichat-gpt4ominievalresults.csv', index=False)"
   ]
  },
  {
   "cell_type": "code",
   "execution_count": null,
   "id": "d4fc4de4-0622-4bcd-b0ff-61d9954842ab",
   "metadata": {},
   "outputs": [],
   "source": [
    "similarity_4o_mini = []\n",
    "\n",
    "for record in tqdm(results_gpt4omini):\n",
    "    sim = compute_similarity(record)\n",
    "    similarity_4o_mini.append(sim)"
   ]
  },
  {
   "cell_type": "code",
   "execution_count": null,
   "id": "22cd9af3-d3ca-4ab3-bbe1-1b8665aaeece",
   "metadata": {},
   "outputs": [],
   "source": [
    "df_gpt4o_mini['cosine'] = similarity_4o_mini\n",
    "df_gpt4o_mini['cosine'].describe()"
   ]
  },
  {
   "cell_type": "markdown",
   "id": "f5478e7d-015e-4356-8e8d-f68dcf3ca156",
   "metadata": {},
   "source": [
    "gpt4o \n",
    "\n",
    "```\n",
    "count    1830.000000\n",
    "mean        0.679129\n",
    "std         0.217995\n",
    "min        -0.153426\n",
    "25%         0.591460\n",
    "50%         0.734788\n",
    "75%         0.835390\n",
    "max         0.995339\n",
    "Name: cosine, dtype: float64\n",
    "```"
   ]
  },
  {
   "cell_type": "code",
   "execution_count": null,
   "id": "145be2b7-d84d-47cf-b39e-6241dc20b535",
   "metadata": {},
   "outputs": [],
   "source": [
    "# sns.distplot(df_gpt35['cosine'], label='3.5')\n",
    "\n",
    "sns.distplot(df_gpt4o['cosine'], label='4o')\n",
    "sns.distplot(df_gpt4o_mini['cosine'], label='4o-mini')\n",
    "\n",
    "plt.title(\"RAG LLM performance\")\n",
    "plt.xlabel(\"A->Q->A' Cosine Similarity\")\n",
    "plt.legend()"
   ]
  },
  {
   "cell_type": "markdown",
   "id": "5d865c1d-3577-4812-959a-93fc8c3a598b",
   "metadata": {},
   "source": [
    "## LLM-as-a-Judge"
   ]
  },
  {
   "cell_type": "code",
   "execution_count": 234,
   "id": "607005fb-d83f-44be-a51a-6bed9f6ebdc7",
   "metadata": {},
   "outputs": [],
   "source": [
    "prompt1_template = \"\"\"\n",
    "You are an expert evaluator for a Retrieval-Augmented Generation (RAG) system.\n",
    "Your task is to analyze the relevance of the generated answer compared to the original answer provided.\n",
    "Based on the relevance and similarity of the generated answer to the original answer, you will classify\n",
    "it as \"NON_RELEVANT\", \"PARTLY_RELEVANT\", or \"RELEVANT\".\n",
    "\n",
    "Here is the data for evaluation:\n",
    "\n",
    "Original Answer: {answer_orig}\n",
    "Generated Question: {question}\n",
    "Generated Answer: {answer_llm}\n",
    "\n",
    "Please analyze the content and context of the generated answer in relation to the original\n",
    "answer and provide your evaluation in parsable JSON without using code blocks:\n",
    "\n",
    "{{\n",
    "  \"Relevance\": \"NON_RELEVANT\" | \"PARTLY_RELEVANT\" | \"RELEVANT\",\n",
    "  \"Explanation\": \"[Provide a brief explanation for your evaluation]\"\n",
    "}}\n",
    "\"\"\".strip()\n",
    "\n",
    "prompt2_template = \"\"\"\n",
    "You are an expert evaluator for a nutrition facts Retrieval-Augmented Generation (RAG) system.\n",
    "Your task is to analyze the relevance of the generated answer to the given question.\n",
    "Based on the relevance of the generated answer, you will classify it\n",
    "as \"NON_RELEVANT\", \"PARTLY_RELEVANT\", or \"RELEVANT\".\n",
    "\n",
    "Consider:\n",
    "1. Nutritional accuracy\n",
    "2. Completeness of information\n",
    "3. Direct answer to the question asked\n",
    "\n",
    "Here is the data for evaluation:\n",
    "\n",
    "Question: {question}\n",
    "Generated Answer: {answer_llm}\n",
    "\n",
    "Please analyze the content and context of the generated answer in relation to the question\n",
    "and provide your evaluation in parsable JSON without using code blocks:\n",
    "\n",
    "{\n",
    "  \"Relevance\": \"NON_RELEVANT\" | \"PARTLY_RELEVANT\" | \"RELEVANT\",\n",
    "  \"Explanation\": \"[Provide a brief explanation for your evaluation]\"\n",
    "}\n",
    "\"\"\".strip()\n"
   ]
  },
  {
   "cell_type": "code",
   "execution_count": 169,
   "id": "fe131dc5-256b-4198-96f7-4c6209ca9b68",
   "metadata": {},
   "outputs": [],
   "source": [
    "df_sample = df_gpt4o_mini.sample(n=150, random_state=1)"
   ]
  },
  {
   "cell_type": "code",
   "execution_count": 173,
   "id": "fd5b25b5-4244-4322-9cba-40b2dde6b7de",
   "metadata": {
    "scrolled": true
   },
   "outputs": [],
   "source": [
    "samples = df_sample.to_dict(orient='records')"
   ]
  },
  {
   "cell_type": "code",
   "execution_count": null,
   "id": "e61a635b-db6d-472f-89a1-a4d50f622124",
   "metadata": {},
   "outputs": [],
   "source": [
    "record = samples[0]\n",
    "record"
   ]
  },
  {
   "cell_type": "code",
   "execution_count": null,
   "id": "e514f94b-8564-40ab-a367-a5a2dda0c8e3",
   "metadata": {},
   "outputs": [],
   "source": [
    "prompt = prompt1_template.format(**record)\n",
    "print(prompt)"
   ]
  },
  {
   "cell_type": "code",
   "execution_count": 210,
   "id": "57e6694f-bf49-467d-82ae-ca5bf06e94f4",
   "metadata": {},
   "outputs": [],
   "source": [
    "answer = llm(prompt, model='gpt-4o-mini')"
   ]
  },
  {
   "cell_type": "code",
   "execution_count": 187,
   "id": "edbe0ddb-75ab-4663-abbd-9886bc23a416",
   "metadata": {},
   "outputs": [],
   "source": [
    "import json"
   ]
  },
  {
   "cell_type": "code",
   "execution_count": 224,
   "id": "92b557cc-13a7-4832-b1c9-382cc51d08e2",
   "metadata": {},
   "outputs": [
    {
     "data": {
      "application/vnd.jupyter.widget-view+json": {
       "model_id": "0be16eace86d4f319bc83764e6088039",
       "version_major": 2,
       "version_minor": 0
      },
      "text/plain": [
       "  0%|          | 0/150 [00:00<?, ?it/s]"
      ]
     },
     "metadata": {},
     "output_type": "display_data"
    }
   ],
   "source": [
    "evaluations = []\n",
    "\n",
    "for record in tqdm(samples):\n",
    "    prompt = prompt1_template.format(**record)\n",
    "    evaluation = llm(prompt, model='gpt-4o-mini')\n",
    "    evaluations.append(evaluation)"
   ]
  },
  {
   "cell_type": "code",
   "execution_count": 225,
   "id": "f3afb95a-53b9-474d-87fc-3d4461a7f27d",
   "metadata": {
    "scrolled": true
   },
   "outputs": [],
   "source": [
    "json_evaluations = []\n",
    "\n",
    "for i, str_eval in enumerate(evaluations):\n",
    "    json_eval = json.loads(str_eval)\n",
    "    json_evaluations.append(json_eval)"
   ]
  },
  {
   "cell_type": "code",
   "execution_count": 227,
   "id": "a6419c24-1a39-4d3b-9468-b99208355035",
   "metadata": {},
   "outputs": [],
   "source": [
    "df_evaluations = pd.DataFrame(json_evaluations)"
   ]
  },
  {
   "cell_type": "code",
   "execution_count": null,
   "id": "a1d6aa1e-8c91-4a90-82e4-e2046a0e5be0",
   "metadata": {},
   "outputs": [],
   "source": [
    "df_evaluations.Relevance.value_counts()"
   ]
  },
  {
   "cell_type": "code",
   "execution_count": null,
   "id": "3664805d-2500-4b65-9980-de162ccf5df8",
   "metadata": {},
   "outputs": [],
   "source": [
    "df_evaluations[df_evaluations.Relevance == 'NON_RELEVANT'] #.to_dict(orient='records')"
   ]
  },
  {
   "cell_type": "code",
   "execution_count": null,
   "id": "550a962b-c807-4dcc-91c4-bb69f47f1c48",
   "metadata": {},
   "outputs": [],
   "source": [
    "sample[4]"
   ]
  },
  {
   "cell_type": "code",
   "execution_count": null,
   "id": "6cdb1246-4769-406c-a9a3-a602ce5d3801",
   "metadata": {},
   "outputs": [],
   "source": [
    "prompt = prompt2_template.format(**record)\n",
    "print(prompt)"
   ]
  },
  {
   "cell_type": "code",
   "execution_count": null,
   "id": "650e8ecb-80e2-42f1-8039-8d497e3eeca6",
   "metadata": {},
   "outputs": [],
   "source": [
    "evaluation = llm(prompt, model='gpt-4o-mini')\n",
    "print(evaluation)"
   ]
  },
  {
   "cell_type": "code",
   "execution_count": null,
   "id": "03afffa3-9f7e-47eb-9c17-46ae39e38424",
   "metadata": {},
   "outputs": [],
   "source": [
    "evaluations_2 = []\n",
    "\n",
    "for record in tqdm(samples):\n",
    "    prompt = prompt2_template.format(**record)\n",
    "    evaluation = llm(prompt, model='gpt-4o-mini')\n",
    "    evaluations_2.append(evaluation)"
   ]
  },
  {
   "cell_type": "code",
   "execution_count": 238,
   "id": "c00c22f5-fe31-4782-99ac-846249fc59b6",
   "metadata": {},
   "outputs": [],
   "source": [
    "json_evaluations_2 = []\n",
    "\n",
    "for i, str_eval in enumerate(evaluations_2):\n",
    "    json_eval = json.loads(str_eval)\n",
    "    json_evaluations_2.append(json_eval)"
   ]
  },
  {
   "cell_type": "code",
   "execution_count": 239,
   "id": "05c6d861-9d0c-41bb-a5db-454283c4b343",
   "metadata": {},
   "outputs": [],
   "source": [
    "df_evaluations_2 = pd.DataFrame(json_evaluations_2)"
   ]
  },
  {
   "cell_type": "code",
   "execution_count": null,
   "id": "09064866-d08c-4e0d-a095-44a9e8625bfb",
   "metadata": {},
   "outputs": [],
   "source": [
    "df_evaluations_2[df_evaluations_2.Relevance == 'NON_RELEVANT']"
   ]
  },
  {
   "cell_type": "code",
   "execution_count": null,
   "id": "95af0004-e25c-4328-8d22-d48443470da0",
   "metadata": {},
   "outputs": [],
   "source": [
    "samples[45]"
   ]
  },
  {
   "cell_type": "markdown",
   "id": "2e515bdc-2a05-4934-800b-7e1ccc1652b5",
   "metadata": {},
   "source": [
    "## Saving all the data"
   ]
  },
  {
   "cell_type": "code",
   "execution_count": 244,
   "id": "c5894357-bfc4-4c42-939b-3e8c052818a1",
   "metadata": {},
   "outputs": [],
   "source": [
    "df_gpt4o.to_csv('Results/nutrichat-gpt4oevalresults.csv', index=False)\n",
    "df_gpt35.to_csv('Results/nutrichat-gpt35evalresults.csv', index=False)\n",
    "df_gpt4o_mini.to_csv('Results/nutrichat-gpt4ominievalresults.csv', index=False)"
   ]
  },
  {
   "cell_type": "code",
   "execution_count": 245,
   "id": "255233a1-0719-4148-9281-047db698ad67",
   "metadata": {},
   "outputs": [],
   "source": [
    "df_evaluations.to_csv('Results/nutrichatevaluations-aqa.csv', index=False)\n",
    "df_evaluations_2.to_csv('Results/nutrichatevaluations-qa.csv', index=False)"
   ]
  }
 ],
 "metadata": {
  "kernelspec": {
   "display_name": "Python 3 (ipykernel)",
   "language": "python",
   "name": "python3"
  },
  "language_info": {
   "codemirror_mode": {
    "name": "ipython",
    "version": 3
   },
   "file_extension": ".py",
   "mimetype": "text/x-python",
   "name": "python",
   "nbconvert_exporter": "python",
   "pygments_lexer": "ipython3",
   "version": "3.12.3"
  }
 },
 "nbformat": 4,
 "nbformat_minor": 5
}
