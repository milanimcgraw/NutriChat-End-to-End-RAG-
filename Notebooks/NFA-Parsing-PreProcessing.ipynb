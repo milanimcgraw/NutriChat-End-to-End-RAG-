{
 "cells": [
  {
   "cell_type": "markdown",
   "id": "4440ae84",
   "metadata": {},
   "source": [
    "### NutriChat - Data Preprocessing and Parsing\n",
    "This notebook handles the initial data processing for our nutrition facts dataset:\n",
    "1. Loading and cleaning raw nutrition data\n",
    "2. Converting data types and handling trace amounts\n",
    "3. Structuring data for RAG system use\n",
    "4. Creating processed JSON output for downstream tasks"
   ]
  },
  {
   "cell_type": "markdown",
   "id": "ce995fb1",
   "metadata": {},
   "source": [
    "#### Imports"
   ]
  },
  {
   "cell_type": "code",
   "execution_count": 1,
   "id": "4cd1eaa8-3424-41ad-9cf2-3e8548712865",
   "metadata": {},
   "outputs": [],
   "source": [
    "import io\n",
    "import json\n",
    "import requests\n",
    "import pandas as pd  \n",
    "from io import StringIO  "
   ]
  },
  {
   "cell_type": "markdown",
   "id": "80efa356",
   "metadata": {},
   "source": [
    "#### Data Cleaning Functions"
   ]
  },
  {
   "cell_type": "code",
   "execution_count": 9,
   "id": "8180e7e4-b90d-4900-a59b-d22e5d6537c4",
   "metadata": {},
   "outputs": [],
   "source": [
    "def clean_nutrition_data(df):\n",
    "    \"\"\"Clean and format nutrition data\"\"\"\n",
    "    df = df.copy()\n",
    "    \n",
    "    # Handle trace amounts\n",
    "    df = df.replace('t', 'trace')\n",
    "    \n",
    "    # Handle null values\n",
    "    df = df.fillna(0)\n",
    "    \n",
    "    # Ensure numeric columns are float\n",
    "    numeric_columns = ['Grams', 'Calories', 'Protein', 'Fat', \n",
    "                      'SatFat', 'Fiber', 'Carbs']\n",
    "    for col in numeric_columns:\n",
    "        df[col] = pd.to_numeric(df[col], errors='coerce')\n",
    "    \n",
    "    return df\n",
    "\n",
    "def create_nutrition_documents(df):\n",
    "    \"\"\"Convert DataFrame to document format\"\"\"\n",
    "    documents = []\n",
    "    \n",
    "    for _, row in df.iterrows():\n",
    "        doc = {\n",
    "            \"Food\": row['Food'],\n",
    "            \"Measure\": row['Measure'],\n",
    "            \"Grams\": row['Grams'],\n",
    "            \"Calories\": row['Calories'],\n",
    "            \"Protein\": row['Protein'],\n",
    "            \"Fat\": row['Fat'],\n",
    "            \"SatFat\": row['SatFat'],\n",
    "            \"Fiber\": row['Fiber'],\n",
    "            \"Carbs\": row['Carbs'],\n",
    "            \"Category\": row['Category']\n",
    "        }\n",
    "        documents.append(doc)\n",
    "    \n",
    "    return {\"nutritionfacts\": documents}"
   ]
  },
  {
   "cell_type": "markdown",
   "id": "eef361f3",
   "metadata": {},
   "source": [
    "#### Loading & Processing"
   ]
  },
  {
   "cell_type": "code",
   "execution_count": 10,
   "id": "e1279d4f",
   "metadata": {},
   "outputs": [],
   "source": [
    "# Load data\n",
    "csv_url = 'https://raw.githubusercontent.com/milanimcgraw/NutriChat-End-to-End-RAG-/refs/heads/main/Data/nutrients_csvfile.csv'\n",
    "response = requests.get(csv_url)\n",
    "df = pd.read_csv(StringIO(response.text))"
   ]
  },
  {
   "cell_type": "code",
   "execution_count": 11,
   "id": "4cc64350-51cf-4766-b81e-00a7e73b35a8",
   "metadata": {},
   "outputs": [
    {
     "name": "stdout",
     "output_type": "stream",
     "text": [
      "Index(['Food', 'Measure', 'Grams', 'Calories', 'Protein', 'Fat', 'SatFat',\n",
      "       'Fiber', 'Carbs', 'Category'],\n",
      "      dtype='object')\n"
     ]
    }
   ],
   "source": [
    "print(df.columns)"
   ]
  },
  {
   "cell_type": "code",
   "execution_count": 12,
   "id": "58b1bc75-1128-4f32-8985-0256f1898c81",
   "metadata": {},
   "outputs": [],
   "source": [
    "# Main processing\n",
    "df_clean = clean_nutrition_data(df)\n",
    "nutrition_docs = create_nutrition_documents(df_clean)"
   ]
  },
  {
   "cell_type": "code",
   "execution_count": 13,
   "id": "9e45e946",
   "metadata": {},
   "outputs": [
    {
     "name": "stdout",
     "output_type": "stream",
     "text": [
      "\n",
      "Dataset statistics:\n",
      "Total number of food items: 335\n",
      "Categories found: ['Dairy products' 'Fats, Oils, Shortenings' 'Meat, Poultry'\n",
      " 'Fish, Seafood' 'Vegetables A-E' 'Vegetables F-P' 'Vegetables R-Z'\n",
      " 'Fruits A-F' 'Fruits G-P' 'Fruits R-Z' 'Breads, cereals, fastfood,grains'\n",
      " 'Soups' 'Desserts, sweets' 'Jams, Jellies' 'Seeds and Nuts'\n",
      " 'Drinks,Alcohol, Beverages']\n"
     ]
    }
   ],
   "source": [
    "# Add after loading data\n",
    "print(\"\\nDataset statistics:\")\n",
    "print(f\"Total number of food items: {len(nutrition_docs['nutritionfacts'])}\")\n",
    "print(f\"Categories found: {df['Category'].unique()}\")"
   ]
  },
  {
   "cell_type": "code",
   "execution_count": 19,
   "id": "30d50bc1-8d26-44ee-8734-cafce05e0523",
   "metadata": {},
   "outputs": [],
   "source": [
    "# Save processed data\n",
    "with open('nutrichat-nutritionfacts.json', 'w') as f:\n",
    "    json.dump(nutrition_docs, f, indent=2)"
   ]
  },
  {
   "cell_type": "markdown",
   "id": "25a7e5f3",
   "metadata": {},
   "source": [
    "#### Verification"
   ]
  },
  {
   "cell_type": "code",
   "execution_count": 16,
   "id": "1b21af5c-2f6d-49e7-92e9-ca229e2473b9",
   "metadata": {},
   "outputs": [
    {
     "name": "stdout",
     "output_type": "stream",
     "text": [
      "{\n",
      "  \"Food\": \"Cows' milk\",\n",
      "  \"Measure\": \"1 qt.\",\n",
      "  \"Grams\": 976.0,\n",
      "  \"Calories\": 660.0,\n",
      "  \"Protein\": 32.0,\n",
      "  \"Fat\": 40.0,\n",
      "  \"SatFat\": 36.0,\n",
      "  \"Fiber\": 0.0,\n",
      "  \"Carbs\": 48.0,\n",
      "  \"Category\": \"Dairy products\"\n",
      "}\n"
     ]
    }
   ],
   "source": [
    "print(json.dumps(nutrition_docs[\"nutritionfacts\"][0], indent=2))"
   ]
  },
  {
   "cell_type": "code",
   "execution_count": 17,
   "id": "6584aee2-4874-49e5-9ea7-9a3795f02c2b",
   "metadata": {},
   "outputs": [
    {
     "name": "stdout",
     "output_type": "stream",
     "text": [
      "/workspaces/NutriChat-End-to-End-RAG-/Notebooks\n"
     ]
    }
   ],
   "source": [
    "import os\n",
    "print(os.getcwd())"
   ]
  }
 ],
 "metadata": {
  "kernelspec": {
   "display_name": "Python 3 (ipykernel)",
   "language": "python",
   "name": "python3"
  },
  "language_info": {
   "codemirror_mode": {
    "name": "ipython",
    "version": 3
   },
   "file_extension": ".py",
   "mimetype": "text/x-python",
   "name": "python",
   "nbconvert_exporter": "python",
   "pygments_lexer": "ipython3",
   "version": "3.12.1"
  }
 },
 "nbformat": 4,
 "nbformat_minor": 5
}
