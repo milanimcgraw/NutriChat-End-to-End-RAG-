{
 "cells": [
  {
   "cell_type": "markdown",
   "id": "593d8a26",
   "metadata": {},
   "source": [
    "#### Imports"
   ]
  },
  {
   "cell_type": "code",
   "execution_count": null,
   "id": "3849f24a",
   "metadata": {},
   "outputs": [],
   "source": [
    "from elasticsearch import Elasticsearch\n",
    "import requests \n",
    "from tqdm.auto import tqdm\n",
    "from openai import OpenAI"
   ]
  },
  {
   "cell_type": "markdown",
   "id": "cd029845",
   "metadata": {},
   "source": [
    "#### Load Data"
   ]
  },
  {
   "cell_type": "code",
   "execution_count": null,
   "id": "eb0b7168",
   "metadata": {},
   "outputs": [],
   "source": [
    "docs_url = 'https://raw.githubusercontent.com/milanimcgraw/NutriChat/refs/heads/main/nutritionfacts.json'\n",
    "docs_response = requests.get(docs_url)\n",
    "nutrition_data = docs_response.json()"
   ]
  },
  {
   "cell_type": "code",
   "execution_count": null,
   "id": "f9d65a38",
   "metadata": {},
   "outputs": [],
   "source": [
    "documents = []\n",
    "\n",
    "for item in nutrition_data['nutritionfacts']:\n",
    "    documents.append(item)\n",
    "\n",
    "documents[0]"
   ]
  },
  {
   "cell_type": "markdown",
   "id": "aafa12c8",
   "metadata": {},
   "source": [
    "#### ElasticSearch"
   ]
  },
  {
   "cell_type": "code",
   "execution_count": 8,
   "id": "a78df1cc-5a5a-40b4-b673-19c7f0319453",
   "metadata": {},
   "outputs": [],
   "source": [
    "es_client = Elasticsearch('http://localhost:9200') "
   ]
  },
  {
   "cell_type": "code",
   "execution_count": null,
   "id": "5d565e33",
   "metadata": {},
   "outputs": [],
   "source": [
    "# Define index \n",
    "index_settings = {\n",
    "    \"settings\": {\n",
    "        \"number_of_shards\": 1,\n",
    "        \"number_of_replicas\": 0\n",
    "    },\n",
    "    \"mappings\": {\n",
    "        \"properties\": {\n",
    "            \"Food\": {\"type\": \"text\"},\n",
    "            \"Measure\": {\"type\": \"text\"},\n",
    "            \"Grams\": {\"type\": \"float\"},\n",
    "            \"Calories\": {\"type\": \"float\"},\n",
    "            \"Protein\": {\"type\": \"float\"},\n",
    "            \"Fat\": {\"type\": \"float\"},\n",
    "            \"SatFat\": {\"type\": \"float\"},\n",
    "            \"Fiber\": {\"type\": \"float\"},\n",
    "            \"Carbs\": {\"type\": \"float\"},\n",
    "            \"Category\": {\"type\": \"keyword\"}\n",
    "        }\n",
    "    }\n",
    "}\n",
    "\n",
    "index_name = \"nutrition-facts\"\n",
    "\n",
    "# Create Index\n",
    "es_client.indices.delete(index=index_name, ignore_unavailable=True)\n",
    "es_client.indices.create(index=index_name, body=index_settings)"
   ]
  },
  {
   "cell_type": "code",
   "execution_count": 13,
   "id": "70fe3c97-916d-42c0-bd7b-4f42d9056409",
   "metadata": {},
   "outputs": [
    {
     "data": {
      "application/vnd.jupyter.widget-view+json": {
       "model_id": "d74c0925b2eb48b8b301b1f418b6938a",
       "version_major": 2,
       "version_minor": 0
      },
      "text/plain": [
       "  0%|          | 0/948 [00:00<?, ?it/s]"
      ]
     },
     "metadata": {},
     "output_type": "display_data"
    }
   ],
   "source": [
    "for doc in tqdm(documents):\n",
    "    es_client.index(index=index_name, document=doc)"
   ]
  },
  {
   "cell_type": "code",
   "execution_count": 17,
   "id": "7c72e000-910b-4fb5-aa88-2561e7bc39f2",
   "metadata": {},
   "outputs": [],
   "source": [
    "# Elasticsearch Search\n",
    "def elastic_search(query):\n",
    "    search_query = {\n",
    "        \"size\": 5,\n",
    "        \"query\": {\n",
    "            \"bool\": {\n",
    "                \"must\": {\n",
    "                    \"multi_match\": {\n",
    "                        \"query\": query,\n",
    "                        \"fields\": [\n",
    "                            \"Food^3\",\n",
    "                            \"Measure\",\n",
    "                            \"Grams\",\n",
    "                            \"Calories\",\n",
    "                            \"Protein\",\n",
    "                            \"Fat\",\n",
    "                            \"SatFat\",\n",
    "                            \"Fiber\",\n",
    "                            \"Carbs\",\n",
    "                            \"Category\"\n",
    "                        ],\n",
    "                        \"type\": \"best_fields\"\n",
    "                    }\n",
    "                },\n",
    "                \"filter\": {\n",
    "                    \"term\": {\n",
    "                        \"Category\": category\n",
    "                    }\n",
    "                }\n",
    "            }\n",
    "        }\n",
    "    }\n",
    "\n",
    "    response = es_client.search(index=index_name, body=search_query)\n",
    "    \n",
    "    result_docs = []\n",
    "    for hit in response['hits']['hits']:\n",
    "        result_docs.append(hit['_source'])\n",
    "    "
   ]
  },
  {
   "cell_type": "code",
   "execution_count": null,
   "id": "9c572b70",
   "metadata": {},
   "outputs": [],
   "source": [
    "client = OpenAI()\n",
    "\n",
    "response = client.chat.completions.create(\n",
    "    model='gpt-4',\n",
    "    messages=[{\"role\": \"user\", \"content\": query}]\n",
    ")\n",
    "\n",
    "\n",
    "response.choices[0].message.content"
   ]
  },
  {
   "cell_type": "code",
   "execution_count": 18,
   "id": "bdc51143-f861-46e2-8a8f-e5c6a324f53b",
   "metadata": {},
   "outputs": [],
   "source": [
    "# Build Prompt\n",
    "def build_prompt(query, search_results):\n",
    "    prompt_template = \"\"\"\n",
    "    You're a nutritionist working as a nutrition facts chat assistant. Answer the QUESTION based on the CONTEXT from the nutrition data.\n",
    "    Use only the facts from the CONTEXT when answering the QUESTION. Be specific about measurements and values.\n",
    "\n",
    "    QUESTION: {question}\n",
    "\n",
    "    CONTEXT: \n",
    "    {context}\n",
    "    \"\"\".strip()\n",
    "\n",
    "    context = \"\"\n",
    "    for doc in search_results:\n",
    "        context = context + f\"Food: {doc['Food']}\\n\"\n",
    "        context = context + f\"Measure: {doc['Measure']}\\n\"\n",
    "        context = context + f\"Nutritional Information: {doc['Calories']} calories, {doc['Protein']}g protein, \"\n",
    "        context = context + f\"{doc['Fat']}g fat, {doc['SatFat']}g saturated fat, \"\n",
    "        context = context + f\"{doc['Fiber']}g fiber, {doc['Carbs']}g carbohydrates\\n\"\n",
    "        context = context + f\"Category: {doc['Category']}\\n\\n\"\n",
    "    \n",
    "    prompt = prompt_template.format(question=query, context=context).strip()\n",
    "    return prompt"
   ]
  },
  {
   "cell_type": "code",
   "execution_count": null,
   "id": "ce28eec4",
   "metadata": {},
   "outputs": [],
   "source": [
    "# LLM Function\n",
    "def llm(prompt):\n",
    "    response = client.chat.completions.create(\n",
    "        model='gpt-4',\n",
    "        messages=[{\"role\": \"user\", \"content\": prompt}]\n",
    "    )\n",
    "    \n",
    "    return response.choices[0].message.content"
   ]
  },
  {
   "cell_type": "markdown",
   "id": "9b308477",
   "metadata": {},
   "source": [
    "#### Test Pipeline"
   ]
  },
  {
   "cell_type": "code",
   "execution_count": 19,
   "id": "81abecbc-eb6b-428f-ab7d-7e21f58b64de",
   "metadata": {},
   "outputs": [],
   "source": [
    "def rag(query):\n",
    "    search_results = elastic_search(query)\n",
    "    prompt = build_prompt(query, search_results)\n",
    "    answer = llm(prompt)\n",
    "    return answer, search_results\n",
    "\n",
    "query = 'Which fruits have the most fiber?'\n",
    "\n",
    "rag(query)"
   ]
  },
  {
   "cell_type": "code",
   "execution_count": null,
   "id": "be2d2f0f",
   "metadata": {},
   "outputs": [],
   "source": [
    "query = 'What are the nutritional facts for whole milk??'\n",
    "\n",
    "rag(query)"
   ]
  },
  {
   "cell_type": "code",
   "execution_count": null,
   "id": "4b1ca141",
   "metadata": {},
   "outputs": [],
   "source": [
    "query = 'Compare the protein content between chicken and fish'\n",
    "\n",
    "rag(query)"
   ]
  },
  {
   "cell_type": "code",
   "execution_count": null,
   "id": "369f56f4",
   "metadata": {},
   "outputs": [],
   "source": [
    "query = 'Show me low-calorie dairy options'\n",
    "\n",
    "rag(query)"
   ]
  }
 ],
 "metadata": {
  "kernelspec": {
   "display_name": "Python 3 (ipykernel)",
   "language": "python",
   "name": "python3"
  },
  "language_info": {
   "codemirror_mode": {
    "name": "ipython",
    "version": 3
   },
   "file_extension": ".py",
   "mimetype": "text/x-python",
   "name": "python",
   "nbconvert_exporter": "python",
   "pygments_lexer": "ipython3",
   "version": "3.11.9"
  }
 },
 "nbformat": 4,
 "nbformat_minor": 5
}
