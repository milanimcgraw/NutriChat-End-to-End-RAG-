{
 "cells": [
  {
   "cell_type": "markdown",
   "id": "ab726be9",
   "metadata": {},
   "source": [
    "### NutriChat - Ground Truth Data Generation\n",
    "\n",
    "This notebook generates ground truth data for evaluating our nutrition facts RAG system. The process includes:\n",
    "1. Creating unique document IDs for nutrition records\n",
    "2. Generating diverse nutrition-related questions using LLM\n",
    "3. Building question-answer pairs for evaluation\n",
    "4. Creating comprehensive dataset covering all food categories"
   ]
  },
  {
   "cell_type": "code",
   "execution_count": null,
   "id": "5528599c",
   "metadata": {},
   "outputs": [],
   "source": [
    "# Import Libraries\n",
    "import requests\n",
    "import json\n",
    "import hashlib\n",
    "from openai import OpenAI\n",
    "import pandas as pd\n",
    "from tqdm.auto import tqdm\n",
    "from collections import defaultdict\n",
    "import pickle"
   ]
  },
  {
   "cell_type": "code",
   "execution_count": 1,
   "id": "7ba3282a-6099-44b3-81c6-ba4b73d80e7b",
   "metadata": {},
   "outputs": [],
   "source": [
    "# Load nutrition data\n",
    "docs_url = 'https://raw.githubusercontent.com/milanimcgraw/NutriChat/refs/heads/main/nutritionfacts.json'\n",
    "docs_response = requests.get(docs_url)\n",
    "nutrition_data = docs_response.json()\n",
    "\n",
    "# Convert to list of documents\n",
    "documents = nutrition_data['nutritionfacts']\n"
   ]
  },
  {
   "cell_type": "code",
   "execution_count": 21,
   "id": "9880aca9-ae97-42f5-9aa5-37bb46448841",
   "metadata": {},
   "outputs": [],
   "source": [
    "# Generate document IDs\n",
    "def generate_document_id(doc):\n",
    "    combined = f\"{doc['Food']}-{doc['Measure']}-{doc['Grams']}-{doc['Calories']}-{doc['Protein']}-{doc['Fat']}-{doc['Sat.Fat']}-{doc['Fiber']}-doc{['Carbs']}-{doc['Category']}\n",
    "    hash_object = hashlib.md5(combined.encode())\n",
    "    hash_hex = hash_object.hexdigest()\n",
    "    document_id = hash_hex[:8]\n",
    "    return document_id"
   ]
  },
  {
   "cell_type": "code",
   "execution_count": 22,
   "id": "66719b38-04f3-41a8-bdd8-f33f04fe9367",
   "metadata": {},
   "outputs": [],
   "source": [
    "# Add IDs to documents\n",
    "for doc in documents:\n",
    "    doc['id'] = generate_document_id(doc)"
   ]
  },
  {
   "cell_type": "code",
   "execution_count": null,
   "id": "e40eba83",
   "metadata": {},
   "outputs": [],
   "source": [
    "documents[5]"
   ]
  },
  {
   "cell_type": "code",
   "execution_count": 24,
   "id": "410f08db-2302-4c50-926c-511037b46c90",
   "metadata": {},
   "outputs": [],
   "source": [
    "# Check for duplicates\n",
    "hashes = defaultdict(list)\n",
    "\n",
    "for doc in documents:\n",
    "    doc_id = doc['id']\n",
    "    hashes[doc_id].append(doc)"
   ]
  },
  {
   "cell_type": "code",
   "execution_count": 25,
   "id": "47c69c01-e952-4818-a307-94ea224ca423",
   "metadata": {},
   "outputs": [
    {
     "data": {
      "text/plain": [
       "(947, 948)"
      ]
     },
     "execution_count": 25,
     "metadata": {},
     "output_type": "execute_result"
    }
   ],
   "source": [
    "print(f\"Total documents: {len(documents)}\")\n",
    "print(f\"Unique document IDs: {len(hashes)}\")"
   ]
  },
  {
   "cell_type": "code",
   "execution_count": 26,
   "id": "c3e495f9-fdac-436f-88e9-44ae68844ee3",
   "metadata": {},
   "outputs": [
    {
     "name": "stdout",
     "output_type": "stream",
     "text": [
      "593f7569 2\n"
     ]
    }
   ],
   "source": [
    "# Checking for collisions\n",
    "for k, values in hashes.items():\n",
    "    if len(values) > 1:\n",
    "        print(f\"Collision found for ID {k}: {len(values)} documents\")\n",
    "\n",
    "for k, values in hashes.items():\n",
    "    if len(values) > 1:\n",
    "        print(k, len(values))"
   ]
  },
  {
   "cell_type": "code",
   "execution_count": null,
   "id": "c45bfb28",
   "metadata": {},
   "outputs": [],
   "source": [
    "hashes['593f7569']"
   ]
  },
  {
   "cell_type": "code",
   "execution_count": 33,
   "id": "686a488a-67af-4f21-8538-2180dc085fa2",
   "metadata": {},
   "outputs": [],
   "source": [
    "# Save documents with IDs\n",
    "with open('nutrichat-docs-with-ids.json', 'wt') as f_out:\n",
    "    json.dump(documents, f_out, indent=2)"
   ]
  },
  {
   "cell_type": "code",
   "execution_count": 34,
   "id": "c567515e-a923-487f-9b4d-9f4ce370e2ca",
   "metadata": {},
   "outputs": [
    {
     "name": "stdout",
     "output_type": "stream",
     "text": [
      "[\n",
      "  {\n",
      "    \"text\": \"The purpose of this document is to capture frequently asked technical questions\\nThe exact day and hour of the course will be 15th Jan 2024 at 17h00. The course will start with the first  \\u201cOffice Hours'' live.1\\nSubscribe to course public Google Calendar (it works from Desktop only).\\nRegister before the course starts using this link.\\nJoin the course Telegram channel with announcements.\\nDon\\u2019t forget to register in DataTalks.Club's Slack and join the channel.\",\n",
      "    \"section\": \"General course-related questions\",\n",
      "    \"question\": \"Course - When will the course start?\",\n",
      "    \"course\": \"data-engineering-zoomcamp\",\n",
      "    \"id\": \"c02e79ef\"\n",
      "  },\n",
      "  {\n",
      "    \"text\": \"GitHub - DataTalksClub data-engineering-zoomcamp#prerequisites\",\n"
     ]
    }
   ],
   "source": [
    "!head nutrichat-docs-with-ids.json"
   ]
  },
  {
   "cell_type": "code",
   "execution_count": 35,
   "id": "1c062325-5608-4da6-80bf-b9ac371bc17f",
   "metadata": {},
   "outputs": [],
   "source": [
    "# Define prompt template for generating questions\n",
    "prompt_template = \"\"\"\n",
    "You are a user interested in nutrition information.\n",
    "Generate 5 different ways to ask about different food items and it's nutritional content.\n",
    "Make questions specific and varied (e.g., about calories, protein, comparisons).\n",
    "\n",
    "Food Item:\n",
    "Name: {Food}\n",
    "Category: {Category}\n",
    "Measure: {Measure}\n",
    "Nutritional Info: {Calories} calories, {Grams}g grams, {Protein}g protein, {Fat}g fat, {Sat.Fat}g saturated fat, {Fiber}g fiber, {Carbs}g carbs\n",
    "\n",
    "Questions should be natural and diverse. Include questions about:\n",
    "1. General nutritional content\n",
    "2. Specific nutrients\n",
    "3. Serving sizes\n",
    "4. Comparisons within category\n",
    "5. Health-related inquiries\n",
    "\n",
    "Output format (JSON array):\n",
    "[\"question1\", \"question2\", \"question3\", \"question4\", \"question5\"]\n",
    "\"\"\".strip()"
   ]
  },
  {
   "cell_type": "code",
   "execution_count": 38,
   "id": "51b8f259-eed8-4a50-b50c-2186fb154853",
   "metadata": {},
   "outputs": [],
   "source": [
    "client = OpenAI()"
   ]
  },
  {
   "cell_type": "code",
   "execution_count": null,
   "id": "534ac1ae-b5e0-43a7-b8ad-103fd56ced54",
   "metadata": {},
   "outputs": [],
   "source": [
    "# Generate questions function\n",
    "def generate_questions(doc):\n",
    "    prompt = prompt_template.format(**doc)\n",
    "\n",
    "    response = client.chat.completions.create(\n",
    "        model='gpt-4o',\n",
    "        messages=[{\"role\": \"user\", \"content\": prompt}]\n",
    "    )\n",
    "\n",
    "    json_response = response.choices[0].message.content\n",
    "    return json_response"
   ]
  },
  {
   "cell_type": "code",
   "execution_count": 49,
   "id": "25a48077-18c0-4d31-82ab-00a44d426279",
   "metadata": {},
   "outputs": [],
   "source": [
    "# Generate questions for each document\n",
    "results = {}\n",
    "\n",
    "for doc in tqdm(documents):\n",
    "    doc_id = doc['id']\n",
    "    if doc_id in results:\n",
    "        continue\n",
    "        \n",
    "    questions = generate_questions(doc)\n",
    "    if questions:\n",
    "        results[doc_id] = questions"
   ]
  },
  {
   "cell_type": "code",
   "execution_count": 53,
   "id": "de64d355-a4c8-4633-b179-952bb38923c5",
   "metadata": {},
   "outputs": [],
   "source": [
    "with open('results.bin', 'rb') as f_in:\n",
    "    results = pickle.load(f_in)"
   ]
  },
  {
   "cell_type": "code",
   "execution_count": 55,
   "id": "2d5cd8f8-ddfd-4802-908b-504722511a04",
   "metadata": {},
   "outputs": [
    {
     "data": {
      "text/plain": [
       "'[\"Where can I find the prerequisites for this course?\", \"How do I check the prerequisites for this course?\", \"Where are the course prerequisites listed?\", \"What are the requirements for joining this course?\", \"Where is the list of prerequisites for the course?\"]'"
      ]
     },
     "execution_count": 55,
     "metadata": {},
     "output_type": "execute_result"
    }
   ],
   "source": [
    "results['1f6520ca']"
   ]
  },
  {
   "cell_type": "code",
   "execution_count": 65,
   "id": "d265559b-de13-45a3-ba4d-b5f84a3c070a",
   "metadata": {},
   "outputs": [],
   "source": [
    "# Parse results\n",
    "parsed_results = {}\n",
    "\n",
    "for doc_id, json_questions in results.items():\n",
    "    parsed_results[doc_id] = json.loads(json_questions)"
   ]
  },
  {
   "cell_type": "code",
   "execution_count": 67,
   "id": "6c928923-d3d8-4b8f-b093-887dffc8e6cb",
   "metadata": {},
   "outputs": [],
   "source": [
    "# Create document index\n",
    "doc_index = {d['id']: d for d in documents}"
   ]
  },
  {
   "cell_type": "code",
   "execution_count": null,
   "id": "1ad018b8-33d7-4b80-85df-de3a115aa2b7",
   "metadata": {},
   "outputs": [],
   "source": [
    "# Create final results\n",
    "final_results = []\n",
    "\n",
    "for doc_id, questions in parsed_results.items():\n",
    "    doc = doc_index[doc_id]\n",
    "    \n",
    "    for q in questions:\n",
    "        final_results.append({\n",
    "            'question': q,\n",
    "            'food': doc['Food'],\n",
    "            'measure': doc['Measure'],\n",
    "            'grams': doc['Grams'],\n",
    "            'calories': doc['Calories'],\n",
    "            'protein': doc['Protein'],\n",
    "            'fat': doc['Fat'],\n",
    "            'sat.fat': doc['Sat.Fat'],\n",
    "            'fiber': doc['Fiber'],\n",
    "            'carbs': doc['Carbs'],\n",
    "            'category': doc['Category'],\n",
    "            'document_id': doc_id\n",
    "        })"
   ]
  },
  {
   "cell_type": "code",
   "execution_count": null,
   "id": "fa8a943f",
   "metadata": {},
   "outputs": [],
   "source": [
    "# Convert to DataFrame and save\n",
    "df = pd.DataFrame(final_results, columns=['question', 'food', 'measure', 'grams', 'calories', 'protein', 'fat', 'sat.fat', 'fiber', 'carbs', 'category', 'document_id'])\n",
    "df.to_csv('nutrichat-groundtruthdata.csv', index=False)"
   ]
  },
  {
   "cell_type": "code",
   "execution_count": null,
   "id": "e2c6f427",
   "metadata": {},
   "outputs": [],
   "source": [
    "# Display sample\n",
    "print(\"\\nSample ground truth data:\")\n",
    "print(df.head(10))"
   ]
  },
  {
   "cell_type": "code",
   "execution_count": null,
   "id": "7e984c2d",
   "metadata": {},
   "outputs": [],
   "source": [
    "# Print statistics\n",
    "print(\"\\nGround Truth Dataset Statistics:\")\n",
    "print(f\"Total questions generated: {len(df)}\")\n",
    "print(f\"Unique food items: {df['food'].nunique()}\")\n",
    "print(f\"Categories covered: {df['category'].nunique()}\")"
   ]
  },
  {
   "cell_type": "code",
   "execution_count": null,
   "id": "49f80649",
   "metadata": {},
   "outputs": [],
   "source": [
    "# Display category distribution\n",
    "print(\"\\nQuestions per category:\")\n",
    "print(df['category'].value_counts())"
   ]
  }
 ],
 "metadata": {
  "kernelspec": {
   "display_name": "Python 3 (ipykernel)",
   "language": "python",
   "name": "python3"
  },
  "language_info": {
   "codemirror_mode": {
    "name": "ipython",
    "version": 3
   },
   "file_extension": ".py",
   "mimetype": "text/x-python",
   "name": "python",
   "nbconvert_exporter": "python",
   "pygments_lexer": "ipython3",
   "version": "3.12.3"
  }
 },
 "nbformat": 4,
 "nbformat_minor": 5
}
